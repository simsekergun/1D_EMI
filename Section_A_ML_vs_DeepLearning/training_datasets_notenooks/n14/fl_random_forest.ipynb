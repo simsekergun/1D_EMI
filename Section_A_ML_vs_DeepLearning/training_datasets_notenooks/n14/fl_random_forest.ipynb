{
 "cells": [
  {
   "cell_type": "code",
   "execution_count": null,
   "metadata": {
    "colab": {
     "base_uri": "https://localhost:8080/",
     "height": 34
    },
    "colab_type": "code",
    "executionInfo": {
     "elapsed": 427,
     "status": "ok",
     "timestamp": 1589050367011,
     "user": {
      "displayName": "Ergun Simsek",
      "photoUrl": "https://lh3.googleusercontent.com/a-/AOh14Gg-wjHaTCL8nW1-WBjkR0PKajXbyfc3UgfX4HpB=s64",
      "userId": "16739529127101354422"
     },
     "user_tz": 240
    },
    "id": "12XBj9bZFQDh",
    "outputId": "e389e956-b792-4091-9515-65a83cc78191"
   },
   "outputs": [],
   "source": [
    "from __future__ import absolute_import, division, print_function\n",
    "from google.colab import drive\n",
    "drive.mount('/content/drive/')"
   ]
  },
  {
   "cell_type": "code",
   "execution_count": null,
   "metadata": {
    "colab": {},
    "colab_type": "code",
    "id": "uPIectZEFS7h"
   },
   "outputs": [],
   "source": [
    "import sklearn"
   ]
  },
  {
   "cell_type": "code",
   "execution_count": null,
   "metadata": {
    "colab": {
     "base_uri": "https://localhost:8080/",
     "height": 34
    },
    "colab_type": "code",
    "executionInfo": {
     "elapsed": 1389,
     "status": "ok",
     "timestamp": 1589050367987,
     "user": {
      "displayName": "Ergun Simsek",
      "photoUrl": "https://lh3.googleusercontent.com/a-/AOh14Gg-wjHaTCL8nW1-WBjkR0PKajXbyfc3UgfX4HpB=s64",
      "userId": "16739529127101354422"
     },
     "user_tz": 240
    },
    "id": "6EQnDaTCFdHe",
    "outputId": "5eb6247f-74e4-41c9-e147-9c829884ac2f"
   },
   "outputs": [],
   "source": [
    "%cd ./drive/'My Drive'/1D_EMI_Datasets_Codes/Section_A_ML_vs_DeepLearning/training_datasets_notenooks/n14"
   ]
  },
  {
   "cell_type": "code",
   "execution_count": null,
   "metadata": {
    "colab": {
     "base_uri": "https://localhost:8080/",
     "height": 71
    },
    "colab_type": "code",
    "executionInfo": {
     "elapsed": 1751,
     "status": "ok",
     "timestamp": 1589050368357,
     "user": {
      "displayName": "Ergun Simsek",
      "photoUrl": "https://lh3.googleusercontent.com/a-/AOh14Gg-wjHaTCL8nW1-WBjkR0PKajXbyfc3UgfX4HpB=s64",
      "userId": "16739529127101354422"
     },
     "user_tz": 240
    },
    "id": "TuHqAcD3FiMc",
    "outputId": "376abdc1-f2bc-491a-99f6-4a5379985aaa"
   },
   "outputs": [],
   "source": [
    "import pathlib\n",
    "\n",
    "import matplotlib.pyplot as plt\n",
    "import numpy as np\n",
    "import pandas as pd\n",
    "import seaborn as sns"
   ]
  },
  {
   "cell_type": "code",
   "execution_count": null,
   "metadata": {
    "colab": {
     "base_uri": "https://localhost:8080/",
     "height": 253
    },
    "colab_type": "code",
    "executionInfo": {
     "elapsed": 4132,
     "status": "ok",
     "timestamp": 1589050370753,
     "user": {
      "displayName": "Ergun Simsek",
      "photoUrl": "https://lh3.googleusercontent.com/a-/AOh14Gg-wjHaTCL8nW1-WBjkR0PKajXbyfc3UgfX4HpB=s64",
      "userId": "16739529127101354422"
     },
     "user_tz": 240
    },
    "id": "mElJEOkcFmkK",
    "outputId": "ac19b221-d181-4cb1-c9ba-d90146a8e6df"
   },
   "outputs": [],
   "source": [
    "raw_dataset = pd.read_csv('TrainStructuredData_n14_csv.csv', header=None)\n",
    "dataset = raw_dataset.copy()\n",
    "dataset.head()"
   ]
  },
  {
   "cell_type": "code",
   "execution_count": null,
   "metadata": {
    "colab": {
     "base_uri": "https://localhost:8080/",
     "height": 34
    },
    "colab_type": "code",
    "executionInfo": {
     "elapsed": 4122,
     "status": "ok",
     "timestamp": 1589050370753,
     "user": {
      "displayName": "Ergun Simsek",
      "photoUrl": "https://lh3.googleusercontent.com/a-/AOh14Gg-wjHaTCL8nW1-WBjkR0PKajXbyfc3UgfX4HpB=s64",
      "userId": "16739529127101354422"
     },
     "user_tz": 240
    },
    "id": "uWzpwYMvFshC",
    "outputId": "1340cbb6-b925-4aa8-bf2a-22fe567f9634"
   },
   "outputs": [],
   "source": [
    "X = dataset.iloc[:,0:200]\n",
    "y = dataset.iloc[:,200:204]\n",
    "print(X.shape,y.shape)"
   ]
  },
  {
   "cell_type": "code",
   "execution_count": null,
   "metadata": {
    "colab": {},
    "colab_type": "code",
    "id": "XQRVOldrF09C"
   },
   "outputs": [],
   "source": [
    "from sklearn.ensemble import RandomForestRegressor\n",
    "model = RandomForestRegressor()"
   ]
  },
  {
   "cell_type": "code",
   "execution_count": null,
   "metadata": {
    "colab": {
     "base_uri": "https://localhost:8080/",
     "height": 136
    },
    "colab_type": "code",
    "executionInfo": {
     "elapsed": 831039,
     "status": "ok",
     "timestamp": 1589051197688,
     "user": {
      "displayName": "Ergun Simsek",
      "photoUrl": "https://lh3.googleusercontent.com/a-/AOh14Gg-wjHaTCL8nW1-WBjkR0PKajXbyfc3UgfX4HpB=s64",
      "userId": "16739529127101354422"
     },
     "user_tz": 240
    },
    "id": "79uWqdunF6XJ",
    "outputId": "2ecbeaa3-e57f-4426-ee97-543f722a393c"
   },
   "outputs": [],
   "source": [
    "# fit model\n",
    "model.fit(X, y)"
   ]
  },
  {
   "cell_type": "code",
   "execution_count": null,
   "metadata": {
    "colab": {},
    "colab_type": "code",
    "id": "9EFkgIN2GQUO"
   },
   "outputs": [],
   "source": [
    "raw_testset = pd.read_csv('../test_datasets/TestData1kcsv.csv', header=None)\n",
    "testset = raw_testset.copy()\n",
    "test1 = (testset.iloc[:,0:200].values)"
   ]
  },
  {
   "cell_type": "code",
   "execution_count": null,
   "metadata": {
    "colab": {},
    "colab_type": "code",
    "id": "xAONO_O4Gmzt"
   },
   "outputs": [],
   "source": [
    "yhat = model.predict(test1)"
   ]
  },
  {
   "cell_type": "code",
   "execution_count": null,
   "metadata": {
    "colab": {},
    "colab_type": "code",
    "id": "XnLrwlBaKs4B"
   },
   "outputs": [],
   "source": [
    "yy = testset.iloc[:,200:204].values"
   ]
  },
  {
   "cell_type": "code",
   "execution_count": null,
   "metadata": {
    "colab": {
     "base_uri": "https://localhost:8080/",
     "height": 283
    },
    "colab_type": "code",
    "executionInfo": {
     "elapsed": 831831,
     "status": "ok",
     "timestamp": 1589051198511,
     "user": {
      "displayName": "Ergun Simsek",
      "photoUrl": "https://lh3.googleusercontent.com/a-/AOh14Gg-wjHaTCL8nW1-WBjkR0PKajXbyfc3UgfX4HpB=s64",
      "userId": "16739529127101354422"
     },
     "user_tz": 240
    },
    "id": "NRqAw7g_Kz8o",
    "outputId": "49e5b78a-09a6-4cd5-8910-be3bbed36c07"
   },
   "outputs": [],
   "source": [
    "a = plt.axes(aspect='equal')\n",
    "plt.scatter(yhat[:,0], yy[:,0])\n",
    "plt.xlabel('True Values')\n",
    "plt.ylabel('Predictions')\n",
    "lims = [0, 10]\n",
    "plt.xlim(lims)\n",
    "plt.ylim(lims)\n",
    "_ = plt.plot(lims, lims)"
   ]
  },
  {
   "cell_type": "code",
   "execution_count": null,
   "metadata": {
    "colab": {
     "base_uri": "https://localhost:8080/",
     "height": 283
    },
    "colab_type": "code",
    "executionInfo": {
     "elapsed": 831823,
     "status": "ok",
     "timestamp": 1589051198511,
     "user": {
      "displayName": "Ergun Simsek",
      "photoUrl": "https://lh3.googleusercontent.com/a-/AOh14Gg-wjHaTCL8nW1-WBjkR0PKajXbyfc3UgfX4HpB=s64",
      "userId": "16739529127101354422"
     },
     "user_tz": 240
    },
    "id": "g3ncdTnxNNUH",
    "outputId": "f30453f8-83b6-4955-eb5d-0ccc1c661a97"
   },
   "outputs": [],
   "source": [
    "a = plt.axes(aspect='equal')\n",
    "plt.scatter(yhat[:,1], yy[:,1])\n",
    "plt.xlabel('True Values')\n",
    "plt.ylabel('Predictions')\n",
    "lims = [0, 10]\n",
    "plt.xlim(lims)\n",
    "plt.ylim(lims)\n",
    "_ = plt.plot(lims, lims)"
   ]
  },
  {
   "cell_type": "code",
   "execution_count": null,
   "metadata": {
    "colab": {
     "base_uri": "https://localhost:8080/",
     "height": 283
    },
    "colab_type": "code",
    "executionInfo": {
     "elapsed": 831984,
     "status": "ok",
     "timestamp": 1589051198680,
     "user": {
      "displayName": "Ergun Simsek",
      "photoUrl": "https://lh3.googleusercontent.com/a-/AOh14Gg-wjHaTCL8nW1-WBjkR0PKajXbyfc3UgfX4HpB=s64",
      "userId": "16739529127101354422"
     },
     "user_tz": 240
    },
    "id": "eY71sFOBNTPf",
    "outputId": "46530f8f-951a-40b1-c85c-2d8669fa4360"
   },
   "outputs": [],
   "source": [
    "a = plt.axes(aspect='equal')\n",
    "plt.scatter(yhat[:,2], yy[:,2])\n",
    "plt.xlabel('True Values')\n",
    "plt.ylabel('Predictions')\n",
    "lims = [0, 10]\n",
    "plt.xlim(lims)\n",
    "plt.ylim(lims)\n",
    "_ = plt.plot(lims, lims)"
   ]
  },
  {
   "cell_type": "code",
   "execution_count": null,
   "metadata": {
    "colab": {
     "base_uri": "https://localhost:8080/",
     "height": 283
    },
    "colab_type": "code",
    "executionInfo": {
     "elapsed": 832342,
     "status": "ok",
     "timestamp": 1589051199046,
     "user": {
      "displayName": "Ergun Simsek",
      "photoUrl": "https://lh3.googleusercontent.com/a-/AOh14Gg-wjHaTCL8nW1-WBjkR0PKajXbyfc3UgfX4HpB=s64",
      "userId": "16739529127101354422"
     },
     "user_tz": 240
    },
    "id": "oFNY2DaPOGcm",
    "outputId": "6f22dbf4-db17-4c5a-e772-3a36cd78b1f3"
   },
   "outputs": [],
   "source": [
    "a = plt.axes(aspect='equal')\n",
    "plt.scatter(yhat[:,3], yy[:,3])\n",
    "plt.xlabel('True Values')\n",
    "plt.ylabel('Predictions')\n",
    "lims = [0, 10]\n",
    "plt.xlim(lims)\n",
    "plt.ylim(lims)\n",
    "_ = plt.plot(lims, lims)"
   ]
  },
  {
   "cell_type": "code",
   "execution_count": null,
   "metadata": {
    "colab": {
     "base_uri": "https://localhost:8080/",
     "height": 34
    },
    "colab_type": "code",
    "executionInfo": {
     "elapsed": 832334,
     "status": "ok",
     "timestamp": 1589051199049,
     "user": {
      "displayName": "Ergun Simsek",
      "photoUrl": "https://lh3.googleusercontent.com/a-/AOh14Gg-wjHaTCL8nW1-WBjkR0PKajXbyfc3UgfX4HpB=s64",
      "userId": "16739529127101354422"
     },
     "user_tz": 240
    },
    "id": "xrdgOw3TOJAv",
    "outputId": "036a52f8-9b57-49f9-a045-bdeb38ecda23"
   },
   "outputs": [],
   "source": [
    " relative_error= (yhat-yy)/yy\n",
    " np.power(np.sum(np.power(relative_error,2), axis=0)/len(yy),0.5)"
   ]
  },
  {
   "cell_type": "code",
   "execution_count": null,
   "metadata": {
    "colab": {},
    "colab_type": "code",
    "id": "2ReWUBziPLPC"
   },
   "outputs": [],
   "source": []
  }
 ],
 "metadata": {
  "colab": {
   "authorship_tag": "ABX9TyP8FxIpmA8g1CJ67amkwQHb",
   "collapsed_sections": [],
   "name": "fl_random_forest.ipynb",
   "provenance": [
    {
     "file_id": "1U4VeEW1DI1L45jU_DEyLEyonblT7r1_t",
     "timestamp": 1588974217491
    },
    {
     "file_id": "1WdXmD2ThX4PcPOJXibmPeuULFYnk9uqY",
     "timestamp": 1588973888669
    }
   ]
  },
  "kernelspec": {
   "display_name": "Python 3",
   "language": "python",
   "name": "python3"
  },
  "language_info": {
   "codemirror_mode": {
    "name": "ipython",
    "version": 3
   },
   "file_extension": ".py",
   "mimetype": "text/x-python",
   "name": "python",
   "nbconvert_exporter": "python",
   "pygments_lexer": "ipython3",
   "version": "3.7.1"
  }
 },
 "nbformat": 4,
 "nbformat_minor": 2
}

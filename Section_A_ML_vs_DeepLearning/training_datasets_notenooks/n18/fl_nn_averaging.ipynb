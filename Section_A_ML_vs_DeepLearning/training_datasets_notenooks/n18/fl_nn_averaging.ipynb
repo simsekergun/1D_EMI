{
 "cells": [
  {
   "cell_type": "code",
   "execution_count": null,
   "metadata": {
    "colab": {
     "base_uri": "https://localhost:8080/",
     "height": 122
    },
    "colab_type": "code",
    "executionInfo": {
     "elapsed": 25993,
     "status": "ok",
     "timestamp": 1590422813855,
     "user": {
      "displayName": "Ergun Simsek",
      "photoUrl": "https://lh3.googleusercontent.com/a-/AOh14Gg-wjHaTCL8nW1-WBjkR0PKajXbyfc3UgfX4HpB=s64",
      "userId": "16739529127101354422"
     },
     "user_tz": 240
    },
    "id": "wNLPc4eFSxNr",
    "outputId": "641773b5-7957-4352-d592-53521060ccd6"
   },
   "outputs": [],
   "source": [
    "from __future__ import absolute_import, division, print_function\n",
    "from google.colab import drive\n",
    "drive.mount('/content/drive/')"
   ]
  },
  {
   "cell_type": "code",
   "execution_count": null,
   "metadata": {
    "colab": {
     "base_uri": "https://localhost:8080/",
     "height": 34
    },
    "colab_type": "code",
    "executionInfo": {
     "elapsed": 26718,
     "status": "ok",
     "timestamp": 1590422814591,
     "user": {
      "displayName": "Ergun Simsek",
      "photoUrl": "https://lh3.googleusercontent.com/a-/AOh14Gg-wjHaTCL8nW1-WBjkR0PKajXbyfc3UgfX4HpB=s64",
      "userId": "16739529127101354422"
     },
     "user_tz": 240
    },
    "id": "kQ0m0Q0_S-RX",
    "outputId": "86ce5ca7-56ee-4646-a668-085e208ce9b5"
   },
   "outputs": [],
   "source": [
    "%cd ./drive/'My Drive'/1D_EMI_Datasets_Codes/Section_A_ML_vs_DeepLearning/training_datasets_notenooks/n18"
   ]
  },
  {
   "cell_type": "code",
   "execution_count": null,
   "metadata": {
    "colab": {
     "base_uri": "https://localhost:8080/",
     "height": 71
    },
    "colab_type": "code",
    "executionInfo": {
     "elapsed": 27298,
     "status": "ok",
     "timestamp": 1590422815180,
     "user": {
      "displayName": "Ergun Simsek",
      "photoUrl": "https://lh3.googleusercontent.com/a-/AOh14Gg-wjHaTCL8nW1-WBjkR0PKajXbyfc3UgfX4HpB=s64",
      "userId": "16739529127101354422"
     },
     "user_tz": 240
    },
    "id": "dRJXOO2vStG5",
    "outputId": "075faf52-dcf7-4e7c-a59b-757d68614677"
   },
   "outputs": [],
   "source": [
    "import pathlib\n",
    "\n",
    "import matplotlib.pyplot as plt\n",
    "import numpy as np\n",
    "import pandas as pd\n",
    "import seaborn as sns"
   ]
  },
  {
   "cell_type": "code",
   "execution_count": null,
   "metadata": {
    "colab": {
     "base_uri": "https://localhost:8080/",
     "height": 34
    },
    "colab_type": "code",
    "executionInfo": {
     "elapsed": 29152,
     "status": "ok",
     "timestamp": 1590422817044,
     "user": {
      "displayName": "Ergun Simsek",
      "photoUrl": "https://lh3.googleusercontent.com/a-/AOh14Gg-wjHaTCL8nW1-WBjkR0PKajXbyfc3UgfX4HpB=s64",
      "userId": "16739529127101354422"
     },
     "user_tz": 240
    },
    "id": "P2nCicv2StG7",
    "outputId": "47bf0e36-f0d1-40eb-99fc-46660ea069d8"
   },
   "outputs": [],
   "source": [
    "import tensorflow as tf\n",
    "\n",
    "from tensorflow import keras\n",
    "from tensorflow.keras import layers\n",
    "\n",
    "print(tf.__version__)"
   ]
  },
  {
   "cell_type": "code",
   "execution_count": null,
   "metadata": {
    "colab": {
     "base_uri": "https://localhost:8080/",
     "height": 253
    },
    "colab_type": "code",
    "executionInfo": {
     "elapsed": 34341,
     "status": "ok",
     "timestamp": 1590422822241,
     "user": {
      "displayName": "Ergun Simsek",
      "photoUrl": "https://lh3.googleusercontent.com/a-/AOh14Gg-wjHaTCL8nW1-WBjkR0PKajXbyfc3UgfX4HpB=s64",
      "userId": "16739529127101354422"
     },
     "user_tz": 240
    },
    "id": "ZfEOzE4wStG-",
    "outputId": "66c294ba-576d-4492-eab2-25e0b93a3a61"
   },
   "outputs": [],
   "source": [
    "raw_dataset = pd.read_csv('TrainStructuredData_n18_csv.csv', header=None)\n",
    "dataset = raw_dataset.copy()\n",
    "dataset.head()"
   ]
  },
  {
   "cell_type": "code",
   "execution_count": null,
   "metadata": {
    "colab": {
     "base_uri": "https://localhost:8080/",
     "height": 34
    },
    "colab_type": "code",
    "executionInfo": {
     "elapsed": 34333,
     "status": "ok",
     "timestamp": 1590422822242,
     "user": {
      "displayName": "Ergun Simsek",
      "photoUrl": "https://lh3.googleusercontent.com/a-/AOh14Gg-wjHaTCL8nW1-WBjkR0PKajXbyfc3UgfX4HpB=s64",
      "userId": "16739529127101354422"
     },
     "user_tz": 240
    },
    "id": "j6tEEvUoStHI",
    "outputId": "3ad54c18-65af-4064-95e8-9d99c73bfc5a"
   },
   "outputs": [],
   "source": [
    "trainx = dataset.iloc[:,0:200]\n",
    "trainy = dataset.iloc[:,200:204]\n",
    "print(trainx.shape,trainy.shape)"
   ]
  },
  {
   "cell_type": "code",
   "execution_count": null,
   "metadata": {
    "colab": {
     "base_uri": "https://localhost:8080/",
     "height": 34
    },
    "colab_type": "code",
    "executionInfo": {
     "elapsed": 34795,
     "status": "ok",
     "timestamp": 1590422822712,
     "user": {
      "displayName": "Ergun Simsek",
      "photoUrl": "https://lh3.googleusercontent.com/a-/AOh14Gg-wjHaTCL8nW1-WBjkR0PKajXbyfc3UgfX4HpB=s64",
      "userId": "16739529127101354422"
     },
     "user_tz": 240
    },
    "id": "ik_YN-SESUM3",
    "outputId": "753a2895-bfa3-485d-eaf5-8b01abb1fe9c"
   },
   "outputs": [],
   "source": [
    "raw_testset = pd.read_csv('../test_datasets/TestData1kcsv.csv', header=None)\n",
    "testset = raw_testset.copy()\n",
    "testx = testset.iloc[:,0:200]\n",
    "testy = testset.iloc[:,200:204]\n",
    "print(testx.shape,testy.shape)"
   ]
  },
  {
   "cell_type": "code",
   "execution_count": null,
   "metadata": {
    "colab": {},
    "colab_type": "code",
    "id": "4haJnVRk2HHa"
   },
   "outputs": [],
   "source": [
    "raw_testset2 = pd.read_csv('../test_datasets/TestData1kcsvS2.csv', header=None)\n",
    "val_testset = raw_testset2.copy()\n",
    "val_testx = val_testset.iloc[:,0:200]\n",
    "val_testy = val_testset.iloc[:,200:204]"
   ]
  },
  {
   "cell_type": "code",
   "execution_count": null,
   "metadata": {
    "colab": {},
    "colab_type": "code",
    "id": "C5oKeXmWStHU"
   },
   "outputs": [],
   "source": [
    "def norm(x):\n",
    "  return (x - train_stats['mean']) / train_stats['std']"
   ]
  },
  {
   "cell_type": "code",
   "execution_count": null,
   "metadata": {
    "colab": {},
    "colab_type": "code",
    "id": "aGXFsuKvStHW"
   },
   "outputs": [],
   "source": [
    "train_stats = trainx.describe()"
   ]
  },
  {
   "cell_type": "code",
   "execution_count": null,
   "metadata": {
    "colab": {
     "base_uri": "https://localhost:8080/",
     "height": 419
    },
    "colab_type": "code",
    "executionInfo": {
     "elapsed": 41892,
     "status": "ok",
     "timestamp": 1590422829827,
     "user": {
      "displayName": "Ergun Simsek",
      "photoUrl": "https://lh3.googleusercontent.com/a-/AOh14Gg-wjHaTCL8nW1-WBjkR0PKajXbyfc3UgfX4HpB=s64",
      "userId": "16739529127101354422"
     },
     "user_tz": 240
    },
    "id": "XLf7ggwOStHZ",
    "outputId": "ea4ccce7-dada-480f-8ca4-94eb934f9dc2"
   },
   "outputs": [],
   "source": [
    "train_stats = train_stats.transpose()\n",
    "train_stats"
   ]
  },
  {
   "cell_type": "code",
   "execution_count": null,
   "metadata": {
    "colab": {},
    "colab_type": "code",
    "id": "jHgQ-y1LStHc"
   },
   "outputs": [],
   "source": [
    "normed_train_data = norm(trainx)\n",
    "normed_test_data = norm(testx)\n",
    "normed_val_data = norm(val_testx)"
   ]
  },
  {
   "cell_type": "code",
   "execution_count": null,
   "metadata": {
    "colab": {},
    "colab_type": "code",
    "id": "tdBtdwzUStHe"
   },
   "outputs": [],
   "source": [
    "def build_model():\n",
    "  model = keras.Sequential([\n",
    "    layers.Dense(64*16, activation='relu', input_shape=[len(trainx.keys())]),    \n",
    "    layers.Dense(64, activation='relu'),    \n",
    "    layers.Dense(4)\n",
    "  ])\n",
    "\n",
    "  optimizer = tf.keras.optimizers.Adam(0.001)\n",
    "\n",
    "  model.compile(loss='mse',\n",
    "                optimizer=optimizer,\n",
    "                metrics=['mae', 'mse'])\n",
    "  return model"
   ]
  },
  {
   "cell_type": "code",
   "execution_count": null,
   "metadata": {
    "colab": {},
    "colab_type": "code",
    "id": "vxNtqfLPStHg"
   },
   "outputs": [],
   "source": [
    "model = build_model()"
   ]
  },
  {
   "cell_type": "code",
   "execution_count": null,
   "metadata": {
    "colab": {
     "base_uri": "https://localhost:8080/",
     "height": 255
    },
    "colab_type": "code",
    "executionInfo": {
     "elapsed": 41875,
     "status": "ok",
     "timestamp": 1590422829830,
     "user": {
      "displayName": "Ergun Simsek",
      "photoUrl": "https://lh3.googleusercontent.com/a-/AOh14Gg-wjHaTCL8nW1-WBjkR0PKajXbyfc3UgfX4HpB=s64",
      "userId": "16739529127101354422"
     },
     "user_tz": 240
    },
    "id": "h7XABh8EStHj",
    "outputId": "f0d37637-62c0-4548-faf6-f1d97863ae3b"
   },
   "outputs": [],
   "source": [
    "model.summary()"
   ]
  },
  {
   "cell_type": "code",
   "execution_count": null,
   "metadata": {
    "colab": {
     "base_uri": "https://localhost:8080/",
     "height": 204
    },
    "colab_type": "code",
    "executionInfo": {
     "elapsed": 41867,
     "status": "ok",
     "timestamp": 1590422829830,
     "user": {
      "displayName": "Ergun Simsek",
      "photoUrl": "https://lh3.googleusercontent.com/a-/AOh14Gg-wjHaTCL8nW1-WBjkR0PKajXbyfc3UgfX4HpB=s64",
      "userId": "16739529127101354422"
     },
     "user_tz": 240
    },
    "id": "VCTZeMmmStHl",
    "outputId": "94308e58-891f-4625-84c2-30c558f349da"
   },
   "outputs": [],
   "source": [
    "example_batch = normed_train_data[:10]\n",
    "example_result = model.predict(example_batch)\n",
    "example_result"
   ]
  },
  {
   "cell_type": "code",
   "execution_count": null,
   "metadata": {
    "colab": {},
    "colab_type": "code",
    "id": "7WVmn-RAStHr"
   },
   "outputs": [],
   "source": [
    "EPOCHS = 1000\n",
    "history = model.fit(\n",
    "  normed_train_data, trainy,\n",
    "  epochs=EPOCHS, validation_data = (normed_val_data,val_testy), verbose=0)"
   ]
  },
  {
   "cell_type": "code",
   "execution_count": null,
   "metadata": {
    "colab": {
     "base_uri": "https://localhost:8080/",
     "height": 279
    },
    "colab_type": "code",
    "executionInfo": {
     "elapsed": 9440937,
     "status": "ok",
     "timestamp": 1590432228915,
     "user": {
      "displayName": "Ergun Simsek",
      "photoUrl": "https://lh3.googleusercontent.com/a-/AOh14Gg-wjHaTCL8nW1-WBjkR0PKajXbyfc3UgfX4HpB=s64",
      "userId": "16739529127101354422"
     },
     "user_tz": 240
    },
    "id": "lCYmYxrRStH6",
    "outputId": "d814f58c-f343-48e6-c8c5-377678eb044f"
   },
   "outputs": [],
   "source": [
    "# summarize history for accuracy\n",
    "plt.plot(history.history['loss'])\n",
    "plt.plot(history.history['val_loss'])\n",
    "#plt.title('model loss')\n",
    "plt.ylabel('loss')\n",
    "plt.xlabel('epoch')\n",
    "plt.legend(['train', 'test'], loc='upper right')\n",
    "plt.show()\n",
    "np.savetxt(\"loss_train.csv\", history.history['loss'], delimiter=\",\")\n",
    "np.savetxt(\"loss_test.csv\", history.history['val_loss'], delimiter=\",\")"
   ]
  },
  {
   "cell_type": "code",
   "execution_count": null,
   "metadata": {
    "colab": {},
    "colab_type": "code",
    "id": "350lOxS-YYwM"
   },
   "outputs": [],
   "source": [
    "counter = 0\n",
    "guesses = np.zeros((4000,20))\n",
    "while counter<20:\n",
    "  history = model.fit(normed_train_data, trainy, epochs=1, \n",
    "                      validation_data = (normed_val_data,val_testy), verbose=0)\n",
    "  guesses[:,counter] = model.predict(normed_test_data).flatten()\n",
    "  counter = counter + 1"
   ]
  },
  {
   "cell_type": "code",
   "execution_count": null,
   "metadata": {
    "colab": {
     "base_uri": "https://localhost:8080/",
     "height": 102
    },
    "colab_type": "code",
    "executionInfo": {
     "elapsed": 9637184,
     "status": "ok",
     "timestamp": 1590432425176,
     "user": {
      "displayName": "Ergun Simsek",
      "photoUrl": "https://lh3.googleusercontent.com/a-/AOh14Gg-wjHaTCL8nW1-WBjkR0PKajXbyfc3UgfX4HpB=s64",
      "userId": "16739529127101354422"
     },
     "user_tz": 240
    },
    "id": "yg0IdzSpeAat",
    "outputId": "f58716ae-4b5b-4407-ead9-c9302ec67b50"
   },
   "outputs": [],
   "source": [
    "averaged_guess = np.zeros((1000,4))\n",
    "for i in range(20):\n",
    "  averaged_guess = averaged_guess + guesses[:,i].reshape(1000,4)\n",
    "averaged_guess = averaged_guess/20.0\n",
    "relative_error = (testy-averaged_guess)/testy\n",
    "np.power(np.sum(np.power(relative_error,2), axis=0)/1000,0.5)"
   ]
  },
  {
   "cell_type": "code",
   "execution_count": null,
   "metadata": {
    "colab": {
     "base_uri": "https://localhost:8080/",
     "height": 620
    },
    "colab_type": "code",
    "executionInfo": {
     "elapsed": 9638264,
     "status": "ok",
     "timestamp": 1590432426263,
     "user": {
      "displayName": "Ergun Simsek",
      "photoUrl": "https://lh3.googleusercontent.com/a-/AOh14Gg-wjHaTCL8nW1-WBjkR0PKajXbyfc3UgfX4HpB=s64",
      "userId": "16739529127101354422"
     },
     "user_tz": 240
    },
    "id": "g1xs3X_wStH4",
    "outputId": "ed603a8f-9c41-4d72-e6f2-c3ff01237151"
   },
   "outputs": [],
   "source": [
    "np.savetxt(\"predictions_nn_v4.csv\", averaged_guess, delimiter=\",\")\n",
    "#\n",
    "fig, axs = plt.subplots(2, 2,figsize=(10,10))\n",
    "axs[0, 0].scatter(testy.iloc[:,3].values, averaged_guess[:,3])\n",
    "axs[0, 0].set_title('$\\epsilon_1$')\n",
    "axs[0, 1].scatter(testy.iloc[:,2].values, averaged_guess[:,2])\n",
    "axs[0, 1].set_title('$\\epsilon_2$')\n",
    "axs[1, 0].scatter(testy.iloc[:,1].values, averaged_guess[:,1])\n",
    "axs[1, 0].set_title('$\\epsilon_3$')\n",
    "axs[1, 1].scatter(testy.iloc[:,0].values, averaged_guess[:,0])\n",
    "axs[1, 1].set_title('$\\epsilon_4$')\n",
    "for ax in axs.flat:\n",
    "    ax.set(xlabel='True Values', ylabel='Predictions')\n",
    "    ax.set(xlim=[1,10], ylim=[1,10])\n",
    "plt.savefig('averaged_vs_true.png')"
   ]
  },
  {
   "cell_type": "code",
   "execution_count": null,
   "metadata": {
    "colab": {},
    "colab_type": "code",
    "id": "Xl26Fmp8cb5s"
   },
   "outputs": [],
   "source": []
  }
 ],
 "metadata": {
  "colab": {
   "collapsed_sections": [],
   "name": "fl_nn_averaging.ipynb",
   "provenance": [
    {
     "file_id": "1SINkiYqIVO8EvmQsYZ6uDp3NUuk9Y1Gk",
     "timestamp": 1589910479616
    },
    {
     "file_id": "1JpjD3aANP6Mli2_ieymEgV9xzvHbQ5cz",
     "timestamp": 1588947143317
    },
    {
     "file_id": "1d-GkwRFbuzy0lD11QAx58g9V8lINcT6-",
     "timestamp": 1588934561597
    },
    {
     "file_id": "1mTqRyLXYLIY6RAm0hOu_hG0MYUILnAsR",
     "timestamp": 1588891446585
    }
   ]
  },
  "kernelspec": {
   "display_name": "Python 3",
   "language": "python",
   "name": "python3"
  },
  "language_info": {
   "codemirror_mode": {
    "name": "ipython",
    "version": 3
   },
   "file_extension": ".py",
   "mimetype": "text/x-python",
   "name": "python",
   "nbconvert_exporter": "python",
   "pygments_lexer": "ipython3",
   "version": "3.7.1"
  }
 },
 "nbformat": 4,
 "nbformat_minor": 2
}

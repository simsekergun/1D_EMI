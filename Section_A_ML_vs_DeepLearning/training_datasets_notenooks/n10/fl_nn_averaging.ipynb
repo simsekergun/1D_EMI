{
 "cells": [
  {
   "cell_type": "code",
   "execution_count": null,
   "metadata": {
    "colab": {
     "base_uri": "https://localhost:8080/",
     "height": 34
    },
    "colab_type": "code",
    "executionInfo": {
     "elapsed": 604,
     "status": "ok",
     "timestamp": 1590421500985,
     "user": {
      "displayName": "Ergun Simsek",
      "photoUrl": "https://lh3.googleusercontent.com/a-/AOh14Gg-wjHaTCL8nW1-WBjkR0PKajXbyfc3UgfX4HpB=s64",
      "userId": "16739529127101354422"
     },
     "user_tz": 240
    },
    "id": "wNLPc4eFSxNr",
    "outputId": "86f2df0c-af2d-4eb3-d5a0-c0d45bb8eaf7"
   },
   "outputs": [],
   "source": [
    "from __future__ import absolute_import, division, print_function\n",
    "from google.colab import drive\n",
    "drive.mount('/content/drive/')"
   ]
  },
  {
   "cell_type": "code",
   "execution_count": null,
   "metadata": {
    "colab": {
     "base_uri": "https://localhost:8080/",
     "height": 34
    },
    "colab_type": "code",
    "executionInfo": {
     "elapsed": 597,
     "status": "ok",
     "timestamp": 1590421500986,
     "user": {
      "displayName": "Ergun Simsek",
      "photoUrl": "https://lh3.googleusercontent.com/a-/AOh14Gg-wjHaTCL8nW1-WBjkR0PKajXbyfc3UgfX4HpB=s64",
      "userId": "16739529127101354422"
     },
     "user_tz": 240
    },
    "id": "kQ0m0Q0_S-RX",
    "outputId": "52aa02b8-f353-471b-8adc-6705a22a4a20"
   },
   "outputs": [],
   "source": [
    "%cd ./drive/'My Drive'/1D_EMI_Datasets_Codes/Section_A_ML_vs_DeepLearning/training_datasets_notenooks/n10"
   ]
  },
  {
   "cell_type": "code",
   "execution_count": null,
   "metadata": {
    "colab": {
     "base_uri": "https://localhost:8080/",
     "height": 71
    },
    "colab_type": "code",
    "executionInfo": {
     "elapsed": 1155,
     "status": "ok",
     "timestamp": 1590421501551,
     "user": {
      "displayName": "Ergun Simsek",
      "photoUrl": "https://lh3.googleusercontent.com/a-/AOh14Gg-wjHaTCL8nW1-WBjkR0PKajXbyfc3UgfX4HpB=s64",
      "userId": "16739529127101354422"
     },
     "user_tz": 240
    },
    "id": "dRJXOO2vStG5",
    "outputId": "dab867ec-df36-47c1-ec05-2acf223834e9"
   },
   "outputs": [],
   "source": [
    "import pathlib\n",
    "\n",
    "import matplotlib.pyplot as plt\n",
    "import numpy as np\n",
    "import pandas as pd\n",
    "import seaborn as sns"
   ]
  },
  {
   "cell_type": "code",
   "execution_count": null,
   "metadata": {
    "colab": {
     "base_uri": "https://localhost:8080/",
     "height": 34
    },
    "colab_type": "code",
    "executionInfo": {
     "elapsed": 2725,
     "status": "ok",
     "timestamp": 1590421503127,
     "user": {
      "displayName": "Ergun Simsek",
      "photoUrl": "https://lh3.googleusercontent.com/a-/AOh14Gg-wjHaTCL8nW1-WBjkR0PKajXbyfc3UgfX4HpB=s64",
      "userId": "16739529127101354422"
     },
     "user_tz": 240
    },
    "id": "P2nCicv2StG7",
    "outputId": "306b629d-e4f0-4698-d824-74a0e61000c4"
   },
   "outputs": [],
   "source": [
    "import tensorflow as tf\n",
    "\n",
    "from tensorflow import keras\n",
    "from tensorflow.keras import layers\n",
    "\n",
    "print(tf.__version__)"
   ]
  },
  {
   "cell_type": "code",
   "execution_count": null,
   "metadata": {
    "colab": {
     "base_uri": "https://localhost:8080/",
     "height": 253
    },
    "colab_type": "code",
    "executionInfo": {
     "elapsed": 3011,
     "status": "ok",
     "timestamp": 1590421503444,
     "user": {
      "displayName": "Ergun Simsek",
      "photoUrl": "https://lh3.googleusercontent.com/a-/AOh14Gg-wjHaTCL8nW1-WBjkR0PKajXbyfc3UgfX4HpB=s64",
      "userId": "16739529127101354422"
     },
     "user_tz": 240
    },
    "id": "ZfEOzE4wStG-",
    "outputId": "60333bec-2883-4175-a8a1-9e1932a06529"
   },
   "outputs": [],
   "source": [
    "raw_dataset = pd.read_csv('TrainStructuredData_n10_csv.csv', header=None)\n",
    "dataset = raw_dataset.copy()\n",
    "dataset.head()"
   ]
  },
  {
   "cell_type": "code",
   "execution_count": null,
   "metadata": {
    "colab": {
     "base_uri": "https://localhost:8080/",
     "height": 34
    },
    "colab_type": "code",
    "executionInfo": {
     "elapsed": 2817,
     "status": "ok",
     "timestamp": 1590421503445,
     "user": {
      "displayName": "Ergun Simsek",
      "photoUrl": "https://lh3.googleusercontent.com/a-/AOh14Gg-wjHaTCL8nW1-WBjkR0PKajXbyfc3UgfX4HpB=s64",
      "userId": "16739529127101354422"
     },
     "user_tz": 240
    },
    "id": "j6tEEvUoStHI",
    "outputId": "255cf14c-eca1-45c1-91d8-091e6d1f1332"
   },
   "outputs": [],
   "source": [
    "trainx = dataset.iloc[:,0:200]\n",
    "trainy = dataset.iloc[:,200:204]\n",
    "print(trainx.shape,trainy.shape)"
   ]
  },
  {
   "cell_type": "code",
   "execution_count": null,
   "metadata": {
    "colab": {
     "base_uri": "https://localhost:8080/",
     "height": 34
    },
    "colab_type": "code",
    "executionInfo": {
     "elapsed": 2651,
     "status": "ok",
     "timestamp": 1590421503445,
     "user": {
      "displayName": "Ergun Simsek",
      "photoUrl": "https://lh3.googleusercontent.com/a-/AOh14Gg-wjHaTCL8nW1-WBjkR0PKajXbyfc3UgfX4HpB=s64",
      "userId": "16739529127101354422"
     },
     "user_tz": 240
    },
    "id": "ik_YN-SESUM3",
    "outputId": "36067299-5ad7-4aed-cc4c-7d972c6ad644"
   },
   "outputs": [],
   "source": [
    "raw_testset = pd.read_csv('../test_datasets/TestData1kcsv.csv', header=None)\n",
    "testset = raw_testset.copy()\n",
    "testx = testset.iloc[:,0:200]\n",
    "testy = testset.iloc[:,200:204]\n",
    "print(testx.shape,testy.shape)"
   ]
  },
  {
   "cell_type": "code",
   "execution_count": null,
   "metadata": {
    "colab": {},
    "colab_type": "code",
    "id": "4haJnVRk2HHa"
   },
   "outputs": [],
   "source": [
    "raw_testset2 = pd.read_csv('../test_datasets/TestData1kcsvS2.csv', header=None)\n",
    "val_testset = raw_testset2.copy()\n",
    "val_testx = val_testset.iloc[:,0:200]\n",
    "val_testy = val_testset.iloc[:,200:204]"
   ]
  },
  {
   "cell_type": "code",
   "execution_count": null,
   "metadata": {
    "colab": {},
    "colab_type": "code",
    "id": "C5oKeXmWStHU"
   },
   "outputs": [],
   "source": [
    "def norm(x):\n",
    "  return (x - train_stats['mean']) / train_stats['std']"
   ]
  },
  {
   "cell_type": "code",
   "execution_count": null,
   "metadata": {
    "colab": {},
    "colab_type": "code",
    "id": "aGXFsuKvStHW"
   },
   "outputs": [],
   "source": [
    "train_stats = trainx.describe()"
   ]
  },
  {
   "cell_type": "code",
   "execution_count": null,
   "metadata": {
    "colab": {
     "base_uri": "https://localhost:8080/",
     "height": 419
    },
    "colab_type": "code",
    "executionInfo": {
     "elapsed": 2761,
     "status": "ok",
     "timestamp": 1590421504142,
     "user": {
      "displayName": "Ergun Simsek",
      "photoUrl": "https://lh3.googleusercontent.com/a-/AOh14Gg-wjHaTCL8nW1-WBjkR0PKajXbyfc3UgfX4HpB=s64",
      "userId": "16739529127101354422"
     },
     "user_tz": 240
    },
    "id": "XLf7ggwOStHZ",
    "outputId": "6b4b148f-a7e7-4b84-e761-78558e11641b"
   },
   "outputs": [],
   "source": [
    "train_stats = train_stats.transpose()\n",
    "train_stats"
   ]
  },
  {
   "cell_type": "code",
   "execution_count": null,
   "metadata": {
    "colab": {},
    "colab_type": "code",
    "id": "jHgQ-y1LStHc"
   },
   "outputs": [],
   "source": [
    "normed_train_data = norm(trainx)\n",
    "normed_test_data = norm(testx)\n",
    "normed_val_data = norm(val_testx)"
   ]
  },
  {
   "cell_type": "code",
   "execution_count": null,
   "metadata": {
    "colab": {},
    "colab_type": "code",
    "id": "tdBtdwzUStHe"
   },
   "outputs": [],
   "source": [
    "def build_model():\n",
    "  model = keras.Sequential([\n",
    "    layers.Dense(64*16, activation='relu', input_shape=[len(trainx.keys())]),    \n",
    "    layers.Dense(64, activation='relu'),    \n",
    "    layers.Dense(4)\n",
    "  ])\n",
    "\n",
    "  optimizer = tf.keras.optimizers.Adam(0.001)\n",
    "\n",
    "  model.compile(loss='mse',\n",
    "                optimizer=optimizer,\n",
    "                metrics=['mae', 'mse'])\n",
    "  return model"
   ]
  },
  {
   "cell_type": "code",
   "execution_count": null,
   "metadata": {
    "colab": {},
    "colab_type": "code",
    "id": "vxNtqfLPStHg"
   },
   "outputs": [],
   "source": [
    "model = build_model()"
   ]
  },
  {
   "cell_type": "code",
   "execution_count": null,
   "metadata": {
    "colab": {
     "base_uri": "https://localhost:8080/",
     "height": 255
    },
    "colab_type": "code",
    "executionInfo": {
     "elapsed": 2549,
     "status": "ok",
     "timestamp": 1590421504537,
     "user": {
      "displayName": "Ergun Simsek",
      "photoUrl": "https://lh3.googleusercontent.com/a-/AOh14Gg-wjHaTCL8nW1-WBjkR0PKajXbyfc3UgfX4HpB=s64",
      "userId": "16739529127101354422"
     },
     "user_tz": 240
    },
    "id": "h7XABh8EStHj",
    "outputId": "bde0a8e8-bfb8-4d07-e56b-48df3af5874a"
   },
   "outputs": [],
   "source": [
    "model.summary()"
   ]
  },
  {
   "cell_type": "code",
   "execution_count": null,
   "metadata": {
    "colab": {
     "base_uri": "https://localhost:8080/",
     "height": 187
    },
    "colab_type": "code",
    "executionInfo": {
     "elapsed": 2669,
     "status": "ok",
     "timestamp": 1590421504807,
     "user": {
      "displayName": "Ergun Simsek",
      "photoUrl": "https://lh3.googleusercontent.com/a-/AOh14Gg-wjHaTCL8nW1-WBjkR0PKajXbyfc3UgfX4HpB=s64",
      "userId": "16739529127101354422"
     },
     "user_tz": 240
    },
    "id": "VCTZeMmmStHl",
    "outputId": "99a80692-f67f-49aa-c752-efaefe5c9d69"
   },
   "outputs": [],
   "source": [
    "example_batch = normed_train_data[:10]\n",
    "example_result = model.predict(example_batch)\n",
    "example_result"
   ]
  },
  {
   "cell_type": "code",
   "execution_count": null,
   "metadata": {
    "colab": {},
    "colab_type": "code",
    "id": "7WVmn-RAStHr"
   },
   "outputs": [],
   "source": [
    "EPOCHS = 1000\n",
    "history = model.fit(\n",
    "  normed_train_data, trainy,\n",
    "  epochs=EPOCHS, validation_data = (normed_val_data,val_testy), verbose=0)"
   ]
  },
  {
   "cell_type": "code",
   "execution_count": null,
   "metadata": {
    "colab": {
     "base_uri": "https://localhost:8080/",
     "height": 279
    },
    "colab_type": "code",
    "executionInfo": {
     "elapsed": 1042745,
     "status": "ok",
     "timestamp": 1590422545390,
     "user": {
      "displayName": "Ergun Simsek",
      "photoUrl": "https://lh3.googleusercontent.com/a-/AOh14Gg-wjHaTCL8nW1-WBjkR0PKajXbyfc3UgfX4HpB=s64",
      "userId": "16739529127101354422"
     },
     "user_tz": 240
    },
    "id": "lCYmYxrRStH6",
    "outputId": "f53bb849-fcd1-4be4-9b8d-88fcfd786e59"
   },
   "outputs": [],
   "source": [
    "# summarize history for accuracy\n",
    "plt.plot(history.history['loss'])\n",
    "plt.plot(history.history['val_loss'])\n",
    "#plt.title('model loss')\n",
    "plt.ylabel('loss')\n",
    "plt.xlabel('epoch')\n",
    "plt.legend(['train', 'test'], loc='upper right')\n",
    "plt.show()\n",
    "np.savetxt(\"loss_train.csv\", history.history['loss'], delimiter=\",\")\n",
    "np.savetxt(\"loss_test.csv\", history.history['val_loss'], delimiter=\",\")"
   ]
  },
  {
   "cell_type": "code",
   "execution_count": null,
   "metadata": {
    "colab": {},
    "colab_type": "code",
    "id": "350lOxS-YYwM"
   },
   "outputs": [],
   "source": [
    "counter = 0\n",
    "guesses = np.zeros((4000,20))\n",
    "while counter<20:\n",
    "  history = model.fit(normed_train_data, trainy, epochs=1, \n",
    "                      validation_data = (normed_val_data,val_testy), verbose=0)\n",
    "  guesses[:,counter] = model.predict(normed_test_data).flatten()\n",
    "  counter = counter + 1"
   ]
  },
  {
   "cell_type": "code",
   "execution_count": null,
   "metadata": {
    "colab": {
     "base_uri": "https://localhost:8080/",
     "height": 102
    },
    "colab_type": "code",
    "executionInfo": {
     "elapsed": 1069635,
     "status": "ok",
     "timestamp": 1590422572641,
     "user": {
      "displayName": "Ergun Simsek",
      "photoUrl": "https://lh3.googleusercontent.com/a-/AOh14Gg-wjHaTCL8nW1-WBjkR0PKajXbyfc3UgfX4HpB=s64",
      "userId": "16739529127101354422"
     },
     "user_tz": 240
    },
    "id": "yg0IdzSpeAat",
    "outputId": "153b5803-4a1c-4b02-f89f-d90b7a6ef303"
   },
   "outputs": [],
   "source": [
    "averaged_guess = np.zeros((1000,4))\n",
    "for i in range(20):\n",
    "  averaged_guess = averaged_guess + guesses[:,i].reshape(1000,4)\n",
    "averaged_guess = averaged_guess/20.0\n",
    "relative_error = (testy-averaged_guess)/testy\n",
    "np.power(np.sum(np.power(relative_error,2), axis=0)/1000,0.5)"
   ]
  },
  {
   "cell_type": "code",
   "execution_count": null,
   "metadata": {
    "colab": {
     "base_uri": "https://localhost:8080/",
     "height": 620
    },
    "colab_type": "code",
    "executionInfo": {
     "elapsed": 1070710,
     "status": "ok",
     "timestamp": 1590422573877,
     "user": {
      "displayName": "Ergun Simsek",
      "photoUrl": "https://lh3.googleusercontent.com/a-/AOh14Gg-wjHaTCL8nW1-WBjkR0PKajXbyfc3UgfX4HpB=s64",
      "userId": "16739529127101354422"
     },
     "user_tz": 240
    },
    "id": "g1xs3X_wStH4",
    "outputId": "f23d4f3e-faf8-4340-91dc-0069d3d562b7"
   },
   "outputs": [],
   "source": [
    "np.savetxt(\"predictions_nn_v4.csv\", averaged_guess, delimiter=\",\")\n",
    "#\n",
    "fig, axs = plt.subplots(2, 2,figsize=(10,10))\n",
    "axs[0, 0].scatter(testy.iloc[:,3].values, averaged_guess[:,3])\n",
    "axs[0, 0].set_title('$\\epsilon_1$')\n",
    "axs[0, 1].scatter(testy.iloc[:,2].values, averaged_guess[:,2])\n",
    "axs[0, 1].set_title('$\\epsilon_2$')\n",
    "axs[1, 0].scatter(testy.iloc[:,1].values, averaged_guess[:,1])\n",
    "axs[1, 0].set_title('$\\epsilon_3$')\n",
    "axs[1, 1].scatter(testy.iloc[:,0].values, averaged_guess[:,0])\n",
    "axs[1, 1].set_title('$\\epsilon_4$')\n",
    "for ax in axs.flat:\n",
    "    ax.set(xlabel='True Values', ylabel='Predictions')\n",
    "    ax.set(xlim=[1,10], ylim=[1,10])\n",
    "plt.savefig('averaged_vs_true.png')"
   ]
  },
  {
   "cell_type": "code",
   "execution_count": null,
   "metadata": {
    "colab": {},
    "colab_type": "code",
    "id": "Xl26Fmp8cb5s"
   },
   "outputs": [],
   "source": []
  }
 ],
 "metadata": {
  "colab": {
   "collapsed_sections": [],
   "name": "fl_nn_averaging.ipynb",
   "provenance": [
    {
     "file_id": "1SINkiYqIVO8EvmQsYZ6uDp3NUuk9Y1Gk",
     "timestamp": 1589910479616
    },
    {
     "file_id": "1JpjD3aANP6Mli2_ieymEgV9xzvHbQ5cz",
     "timestamp": 1588947143317
    },
    {
     "file_id": "1d-GkwRFbuzy0lD11QAx58g9V8lINcT6-",
     "timestamp": 1588934561597
    },
    {
     "file_id": "1mTqRyLXYLIY6RAm0hOu_hG0MYUILnAsR",
     "timestamp": 1588891446585
    }
   ]
  },
  "kernelspec": {
   "display_name": "Python 3",
   "language": "python",
   "name": "python3"
  },
  "language_info": {
   "codemirror_mode": {
    "name": "ipython",
    "version": 3
   },
   "file_extension": ".py",
   "mimetype": "text/x-python",
   "name": "python",
   "nbconvert_exporter": "python",
   "pygments_lexer": "ipython3",
   "version": "3.7.1"
  }
 },
 "nbformat": 4,
 "nbformat_minor": 2
}

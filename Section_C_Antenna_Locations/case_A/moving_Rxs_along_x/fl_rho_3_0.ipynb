{
 "cells": [
  {
   "cell_type": "code",
   "execution_count": null,
   "metadata": {
    "colab": {
     "base_uri": "https://localhost:8080/",
     "height": 125
    },
    "colab_type": "code",
    "executionInfo": {
     "elapsed": 17104,
     "status": "ok",
     "timestamp": 1591715283955,
     "user": {
      "displayName": "Ergun Simsek",
      "photoUrl": "https://lh3.googleusercontent.com/a-/AOh14Gg-wjHaTCL8nW1-WBjkR0PKajXbyfc3UgfX4HpB=s64",
      "userId": "16739529127101354422"
     },
     "user_tz": 240
    },
    "id": "wNLPc4eFSxNr",
    "outputId": "94da89a7-530b-4fe8-8342-41ab08233946"
   },
   "outputs": [],
   "source": [
    "from __future__ import absolute_import, division, print_function\n",
    "from google.colab import drive\n",
    "drive.mount('/content/drive/')"
   ]
  },
  {
   "cell_type": "code",
   "execution_count": null,
   "metadata": {
    "colab": {
     "base_uri": "https://localhost:8080/",
     "height": 34
    },
    "colab_type": "code",
    "executionInfo": {
     "elapsed": 18926,
     "status": "ok",
     "timestamp": 1591715285789,
     "user": {
      "displayName": "Ergun Simsek",
      "photoUrl": "https://lh3.googleusercontent.com/a-/AOh14Gg-wjHaTCL8nW1-WBjkR0PKajXbyfc3UgfX4HpB=s64",
      "userId": "16739529127101354422"
     },
     "user_tz": 240
    },
    "id": "kQ0m0Q0_S-RX",
    "outputId": "18a86549-1ed0-4331-969c-bddd3e1fecad"
   },
   "outputs": [],
   "source": [
    "%cd ./drive/'My Drive'/1D_EMI_Datasets_Codes/Section_C_Antenna_Locations/case_A/moving_Rxs_along_x/"
   ]
  },
  {
   "cell_type": "code",
   "execution_count": null,
   "metadata": {
    "colab": {
     "base_uri": "https://localhost:8080/",
     "height": 72
    },
    "colab_type": "code",
    "executionInfo": {
     "elapsed": 20040,
     "status": "ok",
     "timestamp": 1591715286913,
     "user": {
      "displayName": "Ergun Simsek",
      "photoUrl": "https://lh3.googleusercontent.com/a-/AOh14Gg-wjHaTCL8nW1-WBjkR0PKajXbyfc3UgfX4HpB=s64",
      "userId": "16739529127101354422"
     },
     "user_tz": 240
    },
    "id": "dRJXOO2vStG5",
    "outputId": "06db4fb9-3301-48ab-97f3-68b7c8a09e24"
   },
   "outputs": [],
   "source": [
    "import pathlib\n",
    "\n",
    "import matplotlib.pyplot as plt\n",
    "import numpy as np\n",
    "import pandas as pd\n",
    "import seaborn as sns"
   ]
  },
  {
   "cell_type": "code",
   "execution_count": null,
   "metadata": {
    "colab": {
     "base_uri": "https://localhost:8080/",
     "height": 34
    },
    "colab_type": "code",
    "executionInfo": {
     "elapsed": 21585,
     "status": "ok",
     "timestamp": 1591715288466,
     "user": {
      "displayName": "Ergun Simsek",
      "photoUrl": "https://lh3.googleusercontent.com/a-/AOh14Gg-wjHaTCL8nW1-WBjkR0PKajXbyfc3UgfX4HpB=s64",
      "userId": "16739529127101354422"
     },
     "user_tz": 240
    },
    "id": "P2nCicv2StG7",
    "outputId": "1171ff3e-c5f7-43da-ef1c-83f95d18f19b"
   },
   "outputs": [],
   "source": [
    "import tensorflow as tf\n",
    "\n",
    "from tensorflow import keras\n",
    "from tensorflow.keras import layers\n",
    "\n",
    "print(tf.__version__)"
   ]
  },
  {
   "cell_type": "code",
   "execution_count": null,
   "metadata": {
    "colab": {
     "base_uri": "https://localhost:8080/",
     "height": 246
    },
    "colab_type": "code",
    "executionInfo": {
     "elapsed": 22975,
     "status": "ok",
     "timestamp": 1591715289865,
     "user": {
      "displayName": "Ergun Simsek",
      "photoUrl": "https://lh3.googleusercontent.com/a-/AOh14Gg-wjHaTCL8nW1-WBjkR0PKajXbyfc3UgfX4HpB=s64",
      "userId": "16739529127101354422"
     },
     "user_tz": 240
    },
    "id": "ZfEOzE4wStG-",
    "outputId": "cb05e19a-9f58-4235-edf7-0948354bba81"
   },
   "outputs": [],
   "source": [
    "raw_dataset = pd.read_csv('Train_n18_rho_3_0.csv', header=None)\n",
    "dataset = raw_dataset.copy()\n",
    "dataset.head()"
   ]
  },
  {
   "cell_type": "code",
   "execution_count": null,
   "metadata": {
    "colab": {
     "base_uri": "https://localhost:8080/",
     "height": 34
    },
    "colab_type": "code",
    "executionInfo": {
     "elapsed": 22966,
     "status": "ok",
     "timestamp": 1591715289866,
     "user": {
      "displayName": "Ergun Simsek",
      "photoUrl": "https://lh3.googleusercontent.com/a-/AOh14Gg-wjHaTCL8nW1-WBjkR0PKajXbyfc3UgfX4HpB=s64",
      "userId": "16739529127101354422"
     },
     "user_tz": 240
    },
    "id": "j6tEEvUoStHI",
    "outputId": "81263892-62ac-46b4-f466-8473077265d9"
   },
   "outputs": [],
   "source": [
    "trainx = dataset.iloc[:,0:200]\n",
    "trainy = dataset.iloc[:,200:204]\n",
    "print(trainx.shape,trainy.shape)"
   ]
  },
  {
   "cell_type": "code",
   "execution_count": null,
   "metadata": {
    "colab": {
     "base_uri": "https://localhost:8080/",
     "height": 34
    },
    "colab_type": "code",
    "executionInfo": {
     "elapsed": 23099,
     "status": "ok",
     "timestamp": 1591715290010,
     "user": {
      "displayName": "Ergun Simsek",
      "photoUrl": "https://lh3.googleusercontent.com/a-/AOh14Gg-wjHaTCL8nW1-WBjkR0PKajXbyfc3UgfX4HpB=s64",
      "userId": "16739529127101354422"
     },
     "user_tz": 240
    },
    "id": "ik_YN-SESUM3",
    "outputId": "017ef007-14e8-47c9-85b1-63211300a54f"
   },
   "outputs": [],
   "source": [
    "raw_testset = pd.read_csv('Test_1000_rho_3_0.csv', header=None)\n",
    "testset = raw_testset.copy()\n",
    "testx = testset.iloc[:,0:200]\n",
    "testy = testset.iloc[:,200:204]\n",
    "print(testx.shape,testy.shape)"
   ]
  },
  {
   "cell_type": "code",
   "execution_count": null,
   "metadata": {
    "colab": {},
    "colab_type": "code",
    "id": "4haJnVRk2HHa"
   },
   "outputs": [],
   "source": [
    "raw_testset2 = pd.read_csv('Test_1000set2_rho_3_0.csv', header=None)\n",
    "val_testset = raw_testset2.copy()\n",
    "val_testx = val_testset.iloc[:,0:200]\n",
    "val_testy = val_testset.iloc[:,200:204]"
   ]
  },
  {
   "cell_type": "code",
   "execution_count": null,
   "metadata": {
    "colab": {},
    "colab_type": "code",
    "id": "C5oKeXmWStHU"
   },
   "outputs": [],
   "source": [
    "def norm(x):\n",
    "  return (x - train_stats['mean']) / train_stats['std']"
   ]
  },
  {
   "cell_type": "code",
   "execution_count": null,
   "metadata": {
    "colab": {},
    "colab_type": "code",
    "id": "aGXFsuKvStHW"
   },
   "outputs": [],
   "source": [
    "train_stats = trainx.describe()"
   ]
  },
  {
   "cell_type": "code",
   "execution_count": null,
   "metadata": {
    "colab": {
     "base_uri": "https://localhost:8080/",
     "height": 406
    },
    "colab_type": "code",
    "executionInfo": {
     "elapsed": 24211,
     "status": "ok",
     "timestamp": 1591715291179,
     "user": {
      "displayName": "Ergun Simsek",
      "photoUrl": "https://lh3.googleusercontent.com/a-/AOh14Gg-wjHaTCL8nW1-WBjkR0PKajXbyfc3UgfX4HpB=s64",
      "userId": "16739529127101354422"
     },
     "user_tz": 240
    },
    "id": "XLf7ggwOStHZ",
    "outputId": "dcd2da86-155d-4a9e-8875-90438ecc8af1"
   },
   "outputs": [],
   "source": [
    "train_stats = train_stats.transpose()\n",
    "train_stats"
   ]
  },
  {
   "cell_type": "code",
   "execution_count": null,
   "metadata": {
    "colab": {},
    "colab_type": "code",
    "id": "jHgQ-y1LStHc"
   },
   "outputs": [],
   "source": [
    "normed_train_data = norm(trainx)\n",
    "normed_test_data = norm(testx)\n",
    "normed_val_data = norm(val_testx)"
   ]
  },
  {
   "cell_type": "code",
   "execution_count": null,
   "metadata": {
    "colab": {},
    "colab_type": "code",
    "id": "tdBtdwzUStHe"
   },
   "outputs": [],
   "source": [
    "def build_model():\n",
    "  model = keras.Sequential([\n",
    "    layers.Dense(64*16, activation='relu', input_shape=[len(trainx.keys())]),    \n",
    "    layers.Dense(64, activation='relu'),    \n",
    "    layers.Dense(4)\n",
    "  ])\n",
    "\n",
    "  optimizer = tf.keras.optimizers.Adam(0.001)\n",
    "\n",
    "  model.compile(loss='mse',\n",
    "                optimizer=optimizer,\n",
    "                metrics=['mae', 'mse'])\n",
    "  return model"
   ]
  },
  {
   "cell_type": "code",
   "execution_count": null,
   "metadata": {
    "colab": {},
    "colab_type": "code",
    "id": "vxNtqfLPStHg"
   },
   "outputs": [],
   "source": [
    "model = build_model()"
   ]
  },
  {
   "cell_type": "code",
   "execution_count": null,
   "metadata": {
    "colab": {
     "base_uri": "https://localhost:8080/",
     "height": 265
    },
    "colab_type": "code",
    "executionInfo": {
     "elapsed": 24854,
     "status": "ok",
     "timestamp": 1591715291849,
     "user": {
      "displayName": "Ergun Simsek",
      "photoUrl": "https://lh3.googleusercontent.com/a-/AOh14Gg-wjHaTCL8nW1-WBjkR0PKajXbyfc3UgfX4HpB=s64",
      "userId": "16739529127101354422"
     },
     "user_tz": 240
    },
    "id": "h7XABh8EStHj",
    "outputId": "f0917c57-ad66-4eeb-c65a-0960244f181e"
   },
   "outputs": [],
   "source": [
    "model.summary()"
   ]
  },
  {
   "cell_type": "code",
   "execution_count": null,
   "metadata": {
    "colab": {
     "base_uri": "https://localhost:8080/",
     "height": 212
    },
    "colab_type": "code",
    "executionInfo": {
     "elapsed": 25254,
     "status": "ok",
     "timestamp": 1591715292263,
     "user": {
      "displayName": "Ergun Simsek",
      "photoUrl": "https://lh3.googleusercontent.com/a-/AOh14Gg-wjHaTCL8nW1-WBjkR0PKajXbyfc3UgfX4HpB=s64",
      "userId": "16739529127101354422"
     },
     "user_tz": 240
    },
    "id": "VCTZeMmmStHl",
    "outputId": "d3a76b26-b1b8-4dfd-fa3d-89dea5c68540"
   },
   "outputs": [],
   "source": [
    "example_batch = normed_train_data[:10]\n",
    "example_result = model.predict(example_batch)\n",
    "example_result"
   ]
  },
  {
   "cell_type": "code",
   "execution_count": null,
   "metadata": {
    "colab": {},
    "colab_type": "code",
    "id": "7WVmn-RAStHr"
   },
   "outputs": [],
   "source": [
    "EPOCHS = 1000\n",
    "history = model.fit(\n",
    "  normed_train_data, trainy,\n",
    "  epochs=EPOCHS, validation_data = (normed_val_data,val_testy), verbose=0)"
   ]
  },
  {
   "cell_type": "code",
   "execution_count": null,
   "metadata": {
    "colab": {
     "base_uri": "https://localhost:8080/",
     "height": 197
    },
    "colab_type": "code",
    "executionInfo": {
     "elapsed": 1944169,
     "status": "ok",
     "timestamp": 1591717211187,
     "user": {
      "displayName": "Ergun Simsek",
      "photoUrl": "https://lh3.googleusercontent.com/a-/AOh14Gg-wjHaTCL8nW1-WBjkR0PKajXbyfc3UgfX4HpB=s64",
      "userId": "16739529127101354422"
     },
     "user_tz": 240
    },
    "id": "EAhX_dbkStHz",
    "outputId": "d6e569bb-d407-490d-c8eb-87b87ac44c0f"
   },
   "outputs": [],
   "source": [
    "hist = pd.DataFrame(history.history)\n",
    "hist['epoch'] = history.epoch\n",
    "hist.tail()"
   ]
  },
  {
   "cell_type": "code",
   "execution_count": null,
   "metadata": {
    "colab": {
     "base_uri": "https://localhost:8080/",
     "height": 34
    },
    "colab_type": "code",
    "executionInfo": {
     "elapsed": 1944331,
     "status": "ok",
     "timestamp": 1591717211352,
     "user": {
      "displayName": "Ergun Simsek",
      "photoUrl": "https://lh3.googleusercontent.com/a-/AOh14Gg-wjHaTCL8nW1-WBjkR0PKajXbyfc3UgfX4HpB=s64",
      "userId": "16739529127101354422"
     },
     "user_tz": 240
    },
    "id": "TtG1OgMeStH1",
    "outputId": "f3b855a3-925e-4134-ddb4-6bb1f27d9ca8"
   },
   "outputs": [],
   "source": [
    "loss, mae, mse = model.evaluate(normed_test_data, testy, verbose=2)"
   ]
  },
  {
   "cell_type": "code",
   "execution_count": null,
   "metadata": {
    "colab": {
     "base_uri": "https://localhost:8080/",
     "height": 620
    },
    "colab_type": "code",
    "executionInfo": {
     "elapsed": 1945774,
     "status": "ok",
     "timestamp": 1591717212800,
     "user": {
      "displayName": "Ergun Simsek",
      "photoUrl": "https://lh3.googleusercontent.com/a-/AOh14Gg-wjHaTCL8nW1-WBjkR0PKajXbyfc3UgfX4HpB=s64",
      "userId": "16739529127101354422"
     },
     "user_tz": 240
    },
    "id": "g1xs3X_wStH4",
    "outputId": "7ad76a9a-5b01-4677-9753-46a80c58b610"
   },
   "outputs": [],
   "source": [
    "test_predictions = model.predict(normed_test_data).flatten()\n",
    "cc = test_predictions.reshape(1000,4)\n",
    "np.savetxt(\"rho_3_0_predictions.csv\", cc, delimiter=\",\")\n",
    "#\n",
    "fig, axs = plt.subplots(2, 2,figsize=(10,10))\n",
    "axs[0, 0].scatter(testy.iloc[:,3].values, cc[:,3])\n",
    "axs[0, 0].set_title('$\\epsilon_1$')\n",
    "axs[0, 1].scatter(testy.iloc[:,2].values, cc[:,2])\n",
    "axs[0, 1].set_title('$\\epsilon_2$')\n",
    "axs[1, 0].scatter(testy.iloc[:,1].values, cc[:,1])\n",
    "axs[1, 0].set_title('$\\epsilon_3$')\n",
    "axs[1, 1].scatter(testy.iloc[:,0].values, cc[:,0])\n",
    "axs[1, 1].set_title('$\\epsilon_4$')\n",
    "for ax in axs.flat:\n",
    "    ax.set(xlabel='True Values', ylabel='Predictions')\n",
    "    ax.set(xlim=[1,10], ylim=[1,10])\n",
    "#plt.savefig('rho_0_5_tahminler.png')"
   ]
  },
  {
   "cell_type": "code",
   "execution_count": null,
   "metadata": {
    "colab": {
     "base_uri": "https://localhost:8080/",
     "height": 278
    },
    "colab_type": "code",
    "executionInfo": {
     "elapsed": 1945771,
     "status": "ok",
     "timestamp": 1591717212801,
     "user": {
      "displayName": "Ergun Simsek",
      "photoUrl": "https://lh3.googleusercontent.com/a-/AOh14Gg-wjHaTCL8nW1-WBjkR0PKajXbyfc3UgfX4HpB=s64",
      "userId": "16739529127101354422"
     },
     "user_tz": 240
    },
    "id": "lCYmYxrRStH6",
    "outputId": "620e5a54-aedd-4375-c0c6-2015b10bc124"
   },
   "outputs": [],
   "source": [
    "# summarize history for accuracy\n",
    "plt.plot(history.history['loss'])\n",
    "plt.plot(history.history['val_loss'])\n",
    "#plt.title('model loss')\n",
    "plt.ylabel('loss')\n",
    "plt.xlabel('epoch')\n",
    "plt.legend(['train', 'test'], loc='upper left')\n",
    "plt.show()"
   ]
  },
  {
   "cell_type": "code",
   "execution_count": null,
   "metadata": {
    "colab": {
     "base_uri": "https://localhost:8080/",
     "height": 105
    },
    "colab_type": "code",
    "executionInfo": {
     "elapsed": 1945769,
     "status": "ok",
     "timestamp": 1591717212802,
     "user": {
      "displayName": "Ergun Simsek",
      "photoUrl": "https://lh3.googleusercontent.com/a-/AOh14Gg-wjHaTCL8nW1-WBjkR0PKajXbyfc3UgfX4HpB=s64",
      "userId": "16739529127101354422"
     },
     "user_tz": 240
    },
    "id": "jLa2Rp8zvzd7",
    "outputId": "effffbd2-591c-4d17-d44a-633f4b4729a7"
   },
   "outputs": [],
   "source": [
    "relative_error = (testy-test_predictions.reshape(1000,4))/testy\n",
    "np.power(np.sum(np.power(relative_error,2), axis=0)/1000,0.5)"
   ]
  },
  {
   "cell_type": "code",
   "execution_count": null,
   "metadata": {
    "colab": {},
    "colab_type": "code",
    "id": "Xl26Fmp8cb5s"
   },
   "outputs": [],
   "source": [
    "# 200    0.355709\n",
    "# 201    0.408483\n",
    "# 202    0.266224\n",
    "# 203    0.105814"
   ]
  }
 ],
 "metadata": {
  "colab": {
   "collapsed_sections": [],
   "name": "fl_rho_3_0.ipynb",
   "provenance": [
    {
     "file_id": "1SINkiYqIVO8EvmQsYZ6uDp3NUuk9Y1Gk",
     "timestamp": 1589910479616
    },
    {
     "file_id": "1JpjD3aANP6Mli2_ieymEgV9xzvHbQ5cz",
     "timestamp": 1588947143317
    },
    {
     "file_id": "1d-GkwRFbuzy0lD11QAx58g9V8lINcT6-",
     "timestamp": 1588934561597
    },
    {
     "file_id": "1mTqRyLXYLIY6RAm0hOu_hG0MYUILnAsR",
     "timestamp": 1588891446585
    }
   ]
  },
  "kernelspec": {
   "display_name": "Python 3",
   "language": "python",
   "name": "python3"
  },
  "language_info": {
   "codemirror_mode": {
    "name": "ipython",
    "version": 3
   },
   "file_extension": ".py",
   "mimetype": "text/x-python",
   "name": "python",
   "nbconvert_exporter": "python",
   "pygments_lexer": "ipython3",
   "version": "3.7.1"
  }
 },
 "nbformat": 4,
 "nbformat_minor": 2
}

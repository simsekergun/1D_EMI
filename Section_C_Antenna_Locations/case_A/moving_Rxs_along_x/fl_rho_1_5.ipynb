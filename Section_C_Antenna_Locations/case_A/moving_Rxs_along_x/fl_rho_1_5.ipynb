{
 "cells": [
  {
   "cell_type": "code",
   "execution_count": null,
   "metadata": {
    "colab": {
     "base_uri": "https://localhost:8080/",
     "height": 125
    },
    "colab_type": "code",
    "executionInfo": {
     "elapsed": 18172,
     "status": "ok",
     "timestamp": 1591712482261,
     "user": {
      "displayName": "Ergun Simsek",
      "photoUrl": "https://lh3.googleusercontent.com/a-/AOh14Gg-wjHaTCL8nW1-WBjkR0PKajXbyfc3UgfX4HpB=s64",
      "userId": "16739529127101354422"
     },
     "user_tz": 240
    },
    "id": "wNLPc4eFSxNr",
    "outputId": "37a2fbfd-03fa-4641-ce16-2475770faf0c"
   },
   "outputs": [],
   "source": [
    "from __future__ import absolute_import, division, print_function\n",
    "from google.colab import drive\n",
    "drive.mount('/content/drive/')"
   ]
  },
  {
   "cell_type": "code",
   "execution_count": null,
   "metadata": {
    "colab": {
     "base_uri": "https://localhost:8080/",
     "height": 34
    },
    "colab_type": "code",
    "executionInfo": {
     "elapsed": 19424,
     "status": "ok",
     "timestamp": 1591712483523,
     "user": {
      "displayName": "Ergun Simsek",
      "photoUrl": "https://lh3.googleusercontent.com/a-/AOh14Gg-wjHaTCL8nW1-WBjkR0PKajXbyfc3UgfX4HpB=s64",
      "userId": "16739529127101354422"
     },
     "user_tz": 240
    },
    "id": "kQ0m0Q0_S-RX",
    "outputId": "708bc593-ba60-4a24-a4f2-7065fd12bff2"
   },
   "outputs": [],
   "source": [
    "%cd ./drive/'My Drive'/1D_EMI_Datasets_Codes/Section_C_Antenna_Locations/case_A/moving_Rxs_along_x/"
   ]
  },
  {
   "cell_type": "code",
   "execution_count": null,
   "metadata": {
    "colab": {
     "base_uri": "https://localhost:8080/",
     "height": 72
    },
    "colab_type": "code",
    "executionInfo": {
     "elapsed": 20260,
     "status": "ok",
     "timestamp": 1591712484368,
     "user": {
      "displayName": "Ergun Simsek",
      "photoUrl": "https://lh3.googleusercontent.com/a-/AOh14Gg-wjHaTCL8nW1-WBjkR0PKajXbyfc3UgfX4HpB=s64",
      "userId": "16739529127101354422"
     },
     "user_tz": 240
    },
    "id": "dRJXOO2vStG5",
    "outputId": "90272467-05bb-4b44-904f-c8fb2cc06097"
   },
   "outputs": [],
   "source": [
    "import pathlib\n",
    "\n",
    "import matplotlib.pyplot as plt\n",
    "import numpy as np\n",
    "import pandas as pd\n",
    "import seaborn as sns"
   ]
  },
  {
   "cell_type": "code",
   "execution_count": null,
   "metadata": {
    "colab": {
     "base_uri": "https://localhost:8080/",
     "height": 34
    },
    "colab_type": "code",
    "executionInfo": {
     "elapsed": 21608,
     "status": "ok",
     "timestamp": 1591712485730,
     "user": {
      "displayName": "Ergun Simsek",
      "photoUrl": "https://lh3.googleusercontent.com/a-/AOh14Gg-wjHaTCL8nW1-WBjkR0PKajXbyfc3UgfX4HpB=s64",
      "userId": "16739529127101354422"
     },
     "user_tz": 240
    },
    "id": "P2nCicv2StG7",
    "outputId": "6054aa47-f355-4ae6-9cc6-476a10853a2d"
   },
   "outputs": [],
   "source": [
    "import tensorflow as tf\n",
    "\n",
    "from tensorflow import keras\n",
    "from tensorflow.keras import layers\n",
    "\n",
    "print(tf.__version__)"
   ]
  },
  {
   "cell_type": "code",
   "execution_count": null,
   "metadata": {
    "colab": {
     "base_uri": "https://localhost:8080/",
     "height": 246
    },
    "colab_type": "code",
    "executionInfo": {
     "elapsed": 23108,
     "status": "ok",
     "timestamp": 1591712487272,
     "user": {
      "displayName": "Ergun Simsek",
      "photoUrl": "https://lh3.googleusercontent.com/a-/AOh14Gg-wjHaTCL8nW1-WBjkR0PKajXbyfc3UgfX4HpB=s64",
      "userId": "16739529127101354422"
     },
     "user_tz": 240
    },
    "id": "ZfEOzE4wStG-",
    "outputId": "741bbc39-826a-4c9b-e3f6-1b3ae992a543"
   },
   "outputs": [],
   "source": [
    "raw_dataset = pd.read_csv('Train_n18_rho_1_5.csv', header=None)\n",
    "dataset = raw_dataset.copy()\n",
    "dataset.head()"
   ]
  },
  {
   "cell_type": "code",
   "execution_count": null,
   "metadata": {
    "colab": {
     "base_uri": "https://localhost:8080/",
     "height": 34
    },
    "colab_type": "code",
    "executionInfo": {
     "elapsed": 23086,
     "status": "ok",
     "timestamp": 1591712487273,
     "user": {
      "displayName": "Ergun Simsek",
      "photoUrl": "https://lh3.googleusercontent.com/a-/AOh14Gg-wjHaTCL8nW1-WBjkR0PKajXbyfc3UgfX4HpB=s64",
      "userId": "16739529127101354422"
     },
     "user_tz": 240
    },
    "id": "j6tEEvUoStHI",
    "outputId": "02c85bd8-3a3d-421b-a605-2a12f3484c7c"
   },
   "outputs": [],
   "source": [
    "trainx = dataset.iloc[:,0:200]\n",
    "trainy = dataset.iloc[:,200:204]\n",
    "print(trainx.shape,trainy.shape)"
   ]
  },
  {
   "cell_type": "code",
   "execution_count": null,
   "metadata": {
    "colab": {
     "base_uri": "https://localhost:8080/",
     "height": 34
    },
    "colab_type": "code",
    "executionInfo": {
     "elapsed": 23690,
     "status": "ok",
     "timestamp": 1591712487892,
     "user": {
      "displayName": "Ergun Simsek",
      "photoUrl": "https://lh3.googleusercontent.com/a-/AOh14Gg-wjHaTCL8nW1-WBjkR0PKajXbyfc3UgfX4HpB=s64",
      "userId": "16739529127101354422"
     },
     "user_tz": 240
    },
    "id": "ik_YN-SESUM3",
    "outputId": "51b1c87e-0f98-459e-80dc-85c18ebba043"
   },
   "outputs": [],
   "source": [
    "raw_testset = pd.read_csv('Test_1000_rho_1_5.csv', header=None)\n",
    "testset = raw_testset.copy()\n",
    "testx = testset.iloc[:,0:200]\n",
    "testy = testset.iloc[:,200:204]\n",
    "print(testx.shape,testy.shape)"
   ]
  },
  {
   "cell_type": "code",
   "execution_count": null,
   "metadata": {
    "colab": {},
    "colab_type": "code",
    "id": "4haJnVRk2HHa"
   },
   "outputs": [],
   "source": [
    "raw_testset2 = pd.read_csv('Test_1000set2_rho_1_5.csv', header=None)\n",
    "val_testset = raw_testset2.copy()\n",
    "val_testx = val_testset.iloc[:,0:200]\n",
    "val_testy = val_testset.iloc[:,200:204]"
   ]
  },
  {
   "cell_type": "code",
   "execution_count": null,
   "metadata": {
    "colab": {},
    "colab_type": "code",
    "id": "C5oKeXmWStHU"
   },
   "outputs": [],
   "source": [
    "def norm(x):\n",
    "  return (x - train_stats['mean']) / train_stats['std']"
   ]
  },
  {
   "cell_type": "code",
   "execution_count": null,
   "metadata": {
    "colab": {},
    "colab_type": "code",
    "id": "aGXFsuKvStHW"
   },
   "outputs": [],
   "source": [
    "train_stats = trainx.describe()"
   ]
  },
  {
   "cell_type": "code",
   "execution_count": null,
   "metadata": {
    "colab": {
     "base_uri": "https://localhost:8080/",
     "height": 406
    },
    "colab_type": "code",
    "executionInfo": {
     "elapsed": 24231,
     "status": "ok",
     "timestamp": 1591712488458,
     "user": {
      "displayName": "Ergun Simsek",
      "photoUrl": "https://lh3.googleusercontent.com/a-/AOh14Gg-wjHaTCL8nW1-WBjkR0PKajXbyfc3UgfX4HpB=s64",
      "userId": "16739529127101354422"
     },
     "user_tz": 240
    },
    "id": "XLf7ggwOStHZ",
    "outputId": "f603cb74-b1da-4fd9-bcc4-cbf8de4eb6a0"
   },
   "outputs": [],
   "source": [
    "train_stats = train_stats.transpose()\n",
    "train_stats"
   ]
  },
  {
   "cell_type": "code",
   "execution_count": null,
   "metadata": {
    "colab": {},
    "colab_type": "code",
    "id": "jHgQ-y1LStHc"
   },
   "outputs": [],
   "source": [
    "normed_train_data = norm(trainx)\n",
    "normed_test_data = norm(testx)\n",
    "normed_val_data = norm(val_testx)"
   ]
  },
  {
   "cell_type": "code",
   "execution_count": null,
   "metadata": {
    "colab": {},
    "colab_type": "code",
    "id": "tdBtdwzUStHe"
   },
   "outputs": [],
   "source": [
    "def build_model():\n",
    "  model = keras.Sequential([\n",
    "    layers.Dense(64*16, activation='relu', input_shape=[len(trainx.keys())]),    \n",
    "    layers.Dense(64, activation='relu'),    \n",
    "    layers.Dense(4)\n",
    "  ])\n",
    "\n",
    "  optimizer = tf.keras.optimizers.Adam(0.001)\n",
    "\n",
    "  model.compile(loss='mse',\n",
    "                optimizer=optimizer,\n",
    "                metrics=['mae', 'mse'])\n",
    "  return model"
   ]
  },
  {
   "cell_type": "code",
   "execution_count": null,
   "metadata": {
    "colab": {},
    "colab_type": "code",
    "id": "vxNtqfLPStHg"
   },
   "outputs": [],
   "source": [
    "model = build_model()"
   ]
  },
  {
   "cell_type": "code",
   "execution_count": null,
   "metadata": {
    "colab": {
     "base_uri": "https://localhost:8080/",
     "height": 265
    },
    "colab_type": "code",
    "executionInfo": {
     "elapsed": 25114,
     "status": "ok",
     "timestamp": 1591712489367,
     "user": {
      "displayName": "Ergun Simsek",
      "photoUrl": "https://lh3.googleusercontent.com/a-/AOh14Gg-wjHaTCL8nW1-WBjkR0PKajXbyfc3UgfX4HpB=s64",
      "userId": "16739529127101354422"
     },
     "user_tz": 240
    },
    "id": "h7XABh8EStHj",
    "outputId": "66bb42aa-3ce7-4337-c8af-f29e31356f49"
   },
   "outputs": [],
   "source": [
    "model.summary()"
   ]
  },
  {
   "cell_type": "code",
   "execution_count": null,
   "metadata": {
    "colab": {
     "base_uri": "https://localhost:8080/",
     "height": 212
    },
    "colab_type": "code",
    "executionInfo": {
     "elapsed": 25268,
     "status": "ok",
     "timestamp": 1591712489537,
     "user": {
      "displayName": "Ergun Simsek",
      "photoUrl": "https://lh3.googleusercontent.com/a-/AOh14Gg-wjHaTCL8nW1-WBjkR0PKajXbyfc3UgfX4HpB=s64",
      "userId": "16739529127101354422"
     },
     "user_tz": 240
    },
    "id": "VCTZeMmmStHl",
    "outputId": "bc4b495a-7c15-4300-a6a4-50412cbd1e1f"
   },
   "outputs": [],
   "source": [
    "example_batch = normed_train_data[:10]\n",
    "example_result = model.predict(example_batch)\n",
    "example_result"
   ]
  },
  {
   "cell_type": "code",
   "execution_count": null,
   "metadata": {
    "colab": {},
    "colab_type": "code",
    "id": "7WVmn-RAStHr"
   },
   "outputs": [],
   "source": [
    "EPOCHS = 1000\n",
    "history = model.fit(\n",
    "  normed_train_data, trainy,\n",
    "  epochs=EPOCHS, validation_data = (normed_val_data,val_testy), verbose=0)"
   ]
  },
  {
   "cell_type": "code",
   "execution_count": null,
   "metadata": {
    "colab": {
     "base_uri": "https://localhost:8080/",
     "height": 197
    },
    "colab_type": "code",
    "executionInfo": {
     "elapsed": 1704524,
     "status": "ok",
     "timestamp": 1591714168810,
     "user": {
      "displayName": "Ergun Simsek",
      "photoUrl": "https://lh3.googleusercontent.com/a-/AOh14Gg-wjHaTCL8nW1-WBjkR0PKajXbyfc3UgfX4HpB=s64",
      "userId": "16739529127101354422"
     },
     "user_tz": 240
    },
    "id": "EAhX_dbkStHz",
    "outputId": "1cd3b7ec-6ff4-424c-bbb3-5a390423fd48"
   },
   "outputs": [],
   "source": [
    "hist = pd.DataFrame(history.history)\n",
    "hist['epoch'] = history.epoch\n",
    "hist.tail()"
   ]
  },
  {
   "cell_type": "code",
   "execution_count": null,
   "metadata": {
    "colab": {
     "base_uri": "https://localhost:8080/",
     "height": 34
    },
    "colab_type": "code",
    "executionInfo": {
     "elapsed": 1704512,
     "status": "ok",
     "timestamp": 1591714168811,
     "user": {
      "displayName": "Ergun Simsek",
      "photoUrl": "https://lh3.googleusercontent.com/a-/AOh14Gg-wjHaTCL8nW1-WBjkR0PKajXbyfc3UgfX4HpB=s64",
      "userId": "16739529127101354422"
     },
     "user_tz": 240
    },
    "id": "TtG1OgMeStH1",
    "outputId": "1a4a49d1-41d4-4fd0-9e41-20628640b964"
   },
   "outputs": [],
   "source": [
    "loss, mae, mse = model.evaluate(normed_test_data, testy, verbose=2)"
   ]
  },
  {
   "cell_type": "code",
   "execution_count": null,
   "metadata": {
    "colab": {
     "base_uri": "https://localhost:8080/",
     "height": 620
    },
    "colab_type": "code",
    "executionInfo": {
     "elapsed": 1705752,
     "status": "ok",
     "timestamp": 1591714170061,
     "user": {
      "displayName": "Ergun Simsek",
      "photoUrl": "https://lh3.googleusercontent.com/a-/AOh14Gg-wjHaTCL8nW1-WBjkR0PKajXbyfc3UgfX4HpB=s64",
      "userId": "16739529127101354422"
     },
     "user_tz": 240
    },
    "id": "g1xs3X_wStH4",
    "outputId": "11d13944-1932-4445-c7d6-9379eb90bb7b"
   },
   "outputs": [],
   "source": [
    "test_predictions = model.predict(normed_test_data).flatten()\n",
    "cc = test_predictions.reshape(1000,4)\n",
    "np.savetxt(\"rho_1_5_predictions.csv\", cc, delimiter=\",\")\n",
    "#\n",
    "fig, axs = plt.subplots(2, 2,figsize=(10,10))\n",
    "axs[0, 0].scatter(testy.iloc[:,3].values, cc[:,3])\n",
    "axs[0, 0].set_title('$\\epsilon_1$')\n",
    "axs[0, 1].scatter(testy.iloc[:,2].values, cc[:,2])\n",
    "axs[0, 1].set_title('$\\epsilon_2$')\n",
    "axs[1, 0].scatter(testy.iloc[:,1].values, cc[:,1])\n",
    "axs[1, 0].set_title('$\\epsilon_3$')\n",
    "axs[1, 1].scatter(testy.iloc[:,0].values, cc[:,0])\n",
    "axs[1, 1].set_title('$\\epsilon_4$')\n",
    "for ax in axs.flat:\n",
    "    ax.set(xlabel='True Values', ylabel='Predictions')\n",
    "    ax.set(xlim=[1,10], ylim=[1,10])\n",
    "#plt.savefig('rho_0_5_tahminler.png')"
   ]
  },
  {
   "cell_type": "code",
   "execution_count": null,
   "metadata": {
    "colab": {
     "base_uri": "https://localhost:8080/",
     "height": 278
    },
    "colab_type": "code",
    "executionInfo": {
     "elapsed": 1705741,
     "status": "ok",
     "timestamp": 1591714170062,
     "user": {
      "displayName": "Ergun Simsek",
      "photoUrl": "https://lh3.googleusercontent.com/a-/AOh14Gg-wjHaTCL8nW1-WBjkR0PKajXbyfc3UgfX4HpB=s64",
      "userId": "16739529127101354422"
     },
     "user_tz": 240
    },
    "id": "lCYmYxrRStH6",
    "outputId": "1459bad6-7b1b-4ff8-f320-7719ce37342f"
   },
   "outputs": [],
   "source": [
    "# summarize history for accuracy\n",
    "plt.plot(history.history['loss'])\n",
    "plt.plot(history.history['val_loss'])\n",
    "#plt.title('model loss')\n",
    "plt.ylabel('loss')\n",
    "plt.xlabel('epoch')\n",
    "plt.legend(['train', 'test'], loc='upper left')\n",
    "plt.show()"
   ]
  },
  {
   "cell_type": "code",
   "execution_count": null,
   "metadata": {
    "colab": {
     "base_uri": "https://localhost:8080/",
     "height": 105
    },
    "colab_type": "code",
    "executionInfo": {
     "elapsed": 1705736,
     "status": "ok",
     "timestamp": 1591714170064,
     "user": {
      "displayName": "Ergun Simsek",
      "photoUrl": "https://lh3.googleusercontent.com/a-/AOh14Gg-wjHaTCL8nW1-WBjkR0PKajXbyfc3UgfX4HpB=s64",
      "userId": "16739529127101354422"
     },
     "user_tz": 240
    },
    "id": "jLa2Rp8zvzd7",
    "outputId": "8461ae9e-98ed-43ed-99f1-83338d564f12"
   },
   "outputs": [],
   "source": [
    "relative_error = (testy-test_predictions.reshape(1000,4))/testy\n",
    "np.power(np.sum(np.power(relative_error,2), axis=0)/1000,0.5)"
   ]
  },
  {
   "cell_type": "code",
   "execution_count": null,
   "metadata": {
    "colab": {},
    "colab_type": "code",
    "id": "Xl26Fmp8cb5s"
   },
   "outputs": [],
   "source": [
    "# 200    0.355709\n",
    "# 201    0.408483\n",
    "# 202    0.266224\n",
    "# 203    0.105814"
   ]
  }
 ],
 "metadata": {
  "colab": {
   "collapsed_sections": [],
   "name": "fl_rho_1_5.ipynb",
   "provenance": [
    {
     "file_id": "1SINkiYqIVO8EvmQsYZ6uDp3NUuk9Y1Gk",
     "timestamp": 1589910479616
    },
    {
     "file_id": "1JpjD3aANP6Mli2_ieymEgV9xzvHbQ5cz",
     "timestamp": 1588947143317
    },
    {
     "file_id": "1d-GkwRFbuzy0lD11QAx58g9V8lINcT6-",
     "timestamp": 1588934561597
    },
    {
     "file_id": "1mTqRyLXYLIY6RAm0hOu_hG0MYUILnAsR",
     "timestamp": 1588891446585
    }
   ]
  },
  "kernelspec": {
   "display_name": "Python 3",
   "language": "python",
   "name": "python3"
  },
  "language_info": {
   "codemirror_mode": {
    "name": "ipython",
    "version": 3
   },
   "file_extension": ".py",
   "mimetype": "text/x-python",
   "name": "python",
   "nbconvert_exporter": "python",
   "pygments_lexer": "ipython3",
   "version": "3.7.1"
  }
 },
 "nbformat": 4,
 "nbformat_minor": 2
}

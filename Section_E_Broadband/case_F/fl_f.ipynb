{
 "cells": [
  {
   "cell_type": "code",
   "execution_count": null,
   "metadata": {
    "colab": {
     "base_uri": "https://localhost:8080/",
     "height": 125
    },
    "colab_type": "code",
    "executionInfo": {
     "elapsed": 22168,
     "status": "ok",
     "timestamp": 1592003586660,
     "user": {
      "displayName": "Ergun Simsek",
      "photoUrl": "https://lh3.googleusercontent.com/a-/AOh14Gg-wjHaTCL8nW1-WBjkR0PKajXbyfc3UgfX4HpB=s64",
      "userId": "16739529127101354422"
     },
     "user_tz": 240
    },
    "id": "wNLPc4eFSxNr",
    "outputId": "3d5e5cbe-7541-40ff-dc1e-d6143aa9139b"
   },
   "outputs": [],
   "source": [
    "from __future__ import absolute_import, division, print_function\n",
    "from google.colab import drive\n",
    "drive.mount('/content/drive/')"
   ]
  },
  {
   "cell_type": "code",
   "execution_count": null,
   "metadata": {
    "colab": {
     "base_uri": "https://localhost:8080/",
     "height": 34
    },
    "colab_type": "code",
    "executionInfo": {
     "elapsed": 23046,
     "status": "ok",
     "timestamp": 1592003587570,
     "user": {
      "displayName": "Ergun Simsek",
      "photoUrl": "https://lh3.googleusercontent.com/a-/AOh14Gg-wjHaTCL8nW1-WBjkR0PKajXbyfc3UgfX4HpB=s64",
      "userId": "16739529127101354422"
     },
     "user_tz": 240
    },
    "id": "kQ0m0Q0_S-RX",
    "outputId": "5708cc20-4b33-4ff5-9138-b8e650230a29"
   },
   "outputs": [],
   "source": [
    "%cd ./drive/'My Drive'/1D_EMI_Datasets_Codes/Section_E_Broadband/case_F/"
   ]
  },
  {
   "cell_type": "code",
   "execution_count": null,
   "metadata": {
    "colab": {
     "base_uri": "https://localhost:8080/",
     "height": 72
    },
    "colab_type": "code",
    "executionInfo": {
     "elapsed": 23461,
     "status": "ok",
     "timestamp": 1592003588002,
     "user": {
      "displayName": "Ergun Simsek",
      "photoUrl": "https://lh3.googleusercontent.com/a-/AOh14Gg-wjHaTCL8nW1-WBjkR0PKajXbyfc3UgfX4HpB=s64",
      "userId": "16739529127101354422"
     },
     "user_tz": 240
    },
    "id": "dRJXOO2vStG5",
    "outputId": "4b35e204-d551-4674-e119-7b5821df4103"
   },
   "outputs": [],
   "source": [
    "import pathlib\n",
    "\n",
    "import matplotlib.pyplot as plt\n",
    "import numpy as np\n",
    "import pandas as pd\n",
    "import seaborn as sns"
   ]
  },
  {
   "cell_type": "code",
   "execution_count": null,
   "metadata": {
    "colab": {
     "base_uri": "https://localhost:8080/",
     "height": 34
    },
    "colab_type": "code",
    "executionInfo": {
     "elapsed": 25019,
     "status": "ok",
     "timestamp": 1592003589583,
     "user": {
      "displayName": "Ergun Simsek",
      "photoUrl": "https://lh3.googleusercontent.com/a-/AOh14Gg-wjHaTCL8nW1-WBjkR0PKajXbyfc3UgfX4HpB=s64",
      "userId": "16739529127101354422"
     },
     "user_tz": 240
    },
    "id": "P2nCicv2StG7",
    "outputId": "4f18c108-93ac-45a7-f4f8-ff699049b607"
   },
   "outputs": [],
   "source": [
    "import tensorflow as tf\n",
    "\n",
    "from tensorflow import keras\n",
    "from tensorflow.keras import layers\n",
    "\n",
    "print(tf.__version__)"
   ]
  },
  {
   "cell_type": "code",
   "execution_count": null,
   "metadata": {
    "colab": {
     "base_uri": "https://localhost:8080/",
     "height": 246
    },
    "colab_type": "code",
    "executionInfo": {
     "elapsed": 26326,
     "status": "ok",
     "timestamp": 1592003590914,
     "user": {
      "displayName": "Ergun Simsek",
      "photoUrl": "https://lh3.googleusercontent.com/a-/AOh14Gg-wjHaTCL8nW1-WBjkR0PKajXbyfc3UgfX4HpB=s64",
      "userId": "16739529127101354422"
     },
     "user_tz": 240
    },
    "id": "ZfEOzE4wStG-",
    "outputId": "65cbfca1-6c43-4473-c51f-25ce8e7a787c"
   },
   "outputs": [],
   "source": [
    "raw_dataset = pd.read_csv('Train_n12_f.csv', header=None)\n",
    "dataset = raw_dataset.copy()\n",
    "dataset.head()"
   ]
  },
  {
   "cell_type": "code",
   "execution_count": null,
   "metadata": {
    "colab": {
     "base_uri": "https://localhost:8080/",
     "height": 34
    },
    "colab_type": "code",
    "executionInfo": {
     "elapsed": 26302,
     "status": "ok",
     "timestamp": 1592003590917,
     "user": {
      "displayName": "Ergun Simsek",
      "photoUrl": "https://lh3.googleusercontent.com/a-/AOh14Gg-wjHaTCL8nW1-WBjkR0PKajXbyfc3UgfX4HpB=s64",
      "userId": "16739529127101354422"
     },
     "user_tz": 240
    },
    "id": "j6tEEvUoStHI",
    "outputId": "46d9ff04-ed11-4e96-9be3-ad57b7e6da42"
   },
   "outputs": [],
   "source": [
    "trainx = dataset.iloc[:,0:200]\n",
    "trainy = dataset.iloc[:,200:204]\n",
    "print(trainx.shape,trainy.shape)"
   ]
  },
  {
   "cell_type": "code",
   "execution_count": null,
   "metadata": {
    "colab": {
     "base_uri": "https://localhost:8080/",
     "height": 34
    },
    "colab_type": "code",
    "executionInfo": {
     "elapsed": 26532,
     "status": "ok",
     "timestamp": 1592003591166,
     "user": {
      "displayName": "Ergun Simsek",
      "photoUrl": "https://lh3.googleusercontent.com/a-/AOh14Gg-wjHaTCL8nW1-WBjkR0PKajXbyfc3UgfX4HpB=s64",
      "userId": "16739529127101354422"
     },
     "user_tz": 240
    },
    "id": "ik_YN-SESUM3",
    "outputId": "736e39bd-f19f-44e3-afbe-2605266ce7fb"
   },
   "outputs": [],
   "source": [
    "raw_testset = pd.read_csv('Test_1000_f.csv', header=None)\n",
    "testset = raw_testset.copy()\n",
    "testx = testset.iloc[:,0:200]\n",
    "testy = testset.iloc[:,200:204]\n",
    "print(testx.shape,testy.shape)"
   ]
  },
  {
   "cell_type": "code",
   "execution_count": null,
   "metadata": {
    "colab": {},
    "colab_type": "code",
    "id": "4haJnVRk2HHa"
   },
   "outputs": [],
   "source": [
    "raw_testset2 = pd.read_csv('Test_1000set2_f.csv', header=None)\n",
    "val_testset = raw_testset2.copy()\n",
    "val_testx = val_testset.iloc[:,0:200]\n",
    "val_testy = val_testset.iloc[:,200:204]"
   ]
  },
  {
   "cell_type": "code",
   "execution_count": null,
   "metadata": {
    "colab": {},
    "colab_type": "code",
    "id": "C5oKeXmWStHU"
   },
   "outputs": [],
   "source": [
    "def norm(x):\n",
    "  return (x - train_stats['mean']) / train_stats['std']"
   ]
  },
  {
   "cell_type": "code",
   "execution_count": null,
   "metadata": {
    "colab": {},
    "colab_type": "code",
    "id": "aGXFsuKvStHW"
   },
   "outputs": [],
   "source": [
    "train_stats = trainx.describe()"
   ]
  },
  {
   "cell_type": "code",
   "execution_count": null,
   "metadata": {
    "colab": {
     "base_uri": "https://localhost:8080/",
     "height": 406
    },
    "colab_type": "code",
    "executionInfo": {
     "elapsed": 27180,
     "status": "ok",
     "timestamp": 1592003591875,
     "user": {
      "displayName": "Ergun Simsek",
      "photoUrl": "https://lh3.googleusercontent.com/a-/AOh14Gg-wjHaTCL8nW1-WBjkR0PKajXbyfc3UgfX4HpB=s64",
      "userId": "16739529127101354422"
     },
     "user_tz": 240
    },
    "id": "XLf7ggwOStHZ",
    "outputId": "d75348b6-4124-4051-e3cc-2185ae23a24b"
   },
   "outputs": [],
   "source": [
    "train_stats = train_stats.transpose()\n",
    "train_stats"
   ]
  },
  {
   "cell_type": "code",
   "execution_count": null,
   "metadata": {
    "colab": {},
    "colab_type": "code",
    "id": "jHgQ-y1LStHc"
   },
   "outputs": [],
   "source": [
    "normed_train_data = norm(trainx)\n",
    "normed_test_data = norm(testx)\n",
    "normed_val_data = norm(val_testx)"
   ]
  },
  {
   "cell_type": "code",
   "execution_count": null,
   "metadata": {
    "colab": {},
    "colab_type": "code",
    "id": "tdBtdwzUStHe"
   },
   "outputs": [],
   "source": [
    "def build_model():\n",
    "  model = keras.Sequential([\n",
    "    layers.Dense(64*16, activation='relu', input_shape=[len(trainx.keys())]),    \n",
    "    layers.Dense(64, activation='relu'),    \n",
    "    layers.Dense(4)\n",
    "  ])\n",
    "\n",
    "  optimizer = tf.keras.optimizers.Adam(0.001)\n",
    "\n",
    "  model.compile(loss='mse',\n",
    "                optimizer=optimizer,\n",
    "                metrics=['mae', 'mse'])\n",
    "  return model"
   ]
  },
  {
   "cell_type": "code",
   "execution_count": null,
   "metadata": {
    "colab": {},
    "colab_type": "code",
    "id": "vxNtqfLPStHg"
   },
   "outputs": [],
   "source": [
    "model = build_model()"
   ]
  },
  {
   "cell_type": "code",
   "execution_count": null,
   "metadata": {
    "colab": {
     "base_uri": "https://localhost:8080/",
     "height": 265
    },
    "colab_type": "code",
    "executionInfo": {
     "elapsed": 27946,
     "status": "ok",
     "timestamp": 1592003592705,
     "user": {
      "displayName": "Ergun Simsek",
      "photoUrl": "https://lh3.googleusercontent.com/a-/AOh14Gg-wjHaTCL8nW1-WBjkR0PKajXbyfc3UgfX4HpB=s64",
      "userId": "16739529127101354422"
     },
     "user_tz": 240
    },
    "id": "h7XABh8EStHj",
    "outputId": "79cca309-137b-4570-e3e8-048faafa713d"
   },
   "outputs": [],
   "source": [
    "model.summary()"
   ]
  },
  {
   "cell_type": "code",
   "execution_count": null,
   "metadata": {
    "colab": {
     "base_uri": "https://localhost:8080/",
     "height": 212
    },
    "colab_type": "code",
    "executionInfo": {
     "elapsed": 28384,
     "status": "ok",
     "timestamp": 1592003593182,
     "user": {
      "displayName": "Ergun Simsek",
      "photoUrl": "https://lh3.googleusercontent.com/a-/AOh14Gg-wjHaTCL8nW1-WBjkR0PKajXbyfc3UgfX4HpB=s64",
      "userId": "16739529127101354422"
     },
     "user_tz": 240
    },
    "id": "VCTZeMmmStHl",
    "outputId": "7eee9b85-2f93-4965-8012-2f9ac4f3c0c3"
   },
   "outputs": [],
   "source": [
    "example_batch = normed_train_data[:10]\n",
    "example_result = model.predict(example_batch)\n",
    "example_result"
   ]
  },
  {
   "cell_type": "code",
   "execution_count": null,
   "metadata": {
    "colab": {},
    "colab_type": "code",
    "id": "7WVmn-RAStHr"
   },
   "outputs": [],
   "source": [
    "EPOCHS = 1000\n",
    "history = model.fit(\n",
    "  normed_train_data, trainy,\n",
    "  epochs=EPOCHS, validation_data = (normed_val_data,val_testy), verbose=0)"
   ]
  },
  {
   "cell_type": "code",
   "execution_count": null,
   "metadata": {
    "colab": {
     "base_uri": "https://localhost:8080/",
     "height": 197
    },
    "colab_type": "code",
    "executionInfo": {
     "elapsed": 1843722,
     "status": "ok",
     "timestamp": 1592005408552,
     "user": {
      "displayName": "Ergun Simsek",
      "photoUrl": "https://lh3.googleusercontent.com/a-/AOh14Gg-wjHaTCL8nW1-WBjkR0PKajXbyfc3UgfX4HpB=s64",
      "userId": "16739529127101354422"
     },
     "user_tz": 240
    },
    "id": "EAhX_dbkStHz",
    "outputId": "1250c431-12d4-4643-d5dd-03b99cf79bea"
   },
   "outputs": [],
   "source": [
    "hist = pd.DataFrame(history.history)\n",
    "hist['epoch'] = history.epoch\n",
    "hist.tail()"
   ]
  },
  {
   "cell_type": "code",
   "execution_count": null,
   "metadata": {
    "colab": {
     "base_uri": "https://localhost:8080/",
     "height": 34
    },
    "colab_type": "code",
    "executionInfo": {
     "elapsed": 1843850,
     "status": "ok",
     "timestamp": 1592005408700,
     "user": {
      "displayName": "Ergun Simsek",
      "photoUrl": "https://lh3.googleusercontent.com/a-/AOh14Gg-wjHaTCL8nW1-WBjkR0PKajXbyfc3UgfX4HpB=s64",
      "userId": "16739529127101354422"
     },
     "user_tz": 240
    },
    "id": "TtG1OgMeStH1",
    "outputId": "1ff99acf-40fa-4e83-e751-f71a564ae66d"
   },
   "outputs": [],
   "source": [
    "loss, mae, mse = model.evaluate(normed_test_data, testy, verbose=2)"
   ]
  },
  {
   "cell_type": "code",
   "execution_count": null,
   "metadata": {
    "colab": {
     "base_uri": "https://localhost:8080/",
     "height": 620
    },
    "colab_type": "code",
    "executionInfo": {
     "elapsed": 1845009,
     "status": "ok",
     "timestamp": 1592005409894,
     "user": {
      "displayName": "Ergun Simsek",
      "photoUrl": "https://lh3.googleusercontent.com/a-/AOh14Gg-wjHaTCL8nW1-WBjkR0PKajXbyfc3UgfX4HpB=s64",
      "userId": "16739529127101354422"
     },
     "user_tz": 240
    },
    "id": "g1xs3X_wStH4",
    "outputId": "e8ba95df-6f87-44bb-cce9-61aee4380f7a"
   },
   "outputs": [],
   "source": [
    "test_predictions = model.predict(normed_test_data).flatten()\n",
    "cc = test_predictions.reshape(1000,4)\n",
    "np.savetxt(\"f_predictions.csv\", cc, delimiter=\",\")\n",
    "#\n",
    "fig, axs = plt.subplots(2, 2,figsize=(10,10))\n",
    "axs[0, 0].scatter(testy.iloc[:,3].values, cc[:,3])\n",
    "axs[0, 0].set_title('$\\epsilon_1$')\n",
    "axs[0, 1].scatter(testy.iloc[:,2].values, cc[:,2])\n",
    "axs[0, 1].set_title('$\\epsilon_2$')\n",
    "axs[1, 0].scatter(testy.iloc[:,1].values, cc[:,1])\n",
    "axs[1, 0].set_title('$\\epsilon_3$')\n",
    "axs[1, 1].scatter(testy.iloc[:,0].values, cc[:,0])\n",
    "axs[1, 1].set_title('$\\epsilon_4$')\n",
    "for ax in axs.flat:\n",
    "    ax.set(xlabel='True Values', ylabel='Predictions')\n",
    "    ax.set(xlim=[1,10], ylim=[1,10])\n",
    "# plt.savefig('z_1_5_tahminler.png')"
   ]
  },
  {
   "cell_type": "code",
   "execution_count": null,
   "metadata": {
    "colab": {
     "base_uri": "https://localhost:8080/",
     "height": 278
    },
    "colab_type": "code",
    "executionInfo": {
     "elapsed": 1844973,
     "status": "ok",
     "timestamp": 1592005409895,
     "user": {
      "displayName": "Ergun Simsek",
      "photoUrl": "https://lh3.googleusercontent.com/a-/AOh14Gg-wjHaTCL8nW1-WBjkR0PKajXbyfc3UgfX4HpB=s64",
      "userId": "16739529127101354422"
     },
     "user_tz": 240
    },
    "id": "lCYmYxrRStH6",
    "outputId": "be484b89-abff-4441-df03-365c22ee667d"
   },
   "outputs": [],
   "source": [
    "# summarize history for accuracy\n",
    "plt.plot(history.history['loss'])\n",
    "plt.plot(history.history['val_loss'])\n",
    "#plt.title('model loss')\n",
    "plt.ylabel('loss')\n",
    "plt.xlabel('epoch')\n",
    "plt.legend(['train', 'test'], loc='upper left')\n",
    "plt.show()\n",
    "# np.savetxt(\"z_1_5_loss.csv\", history.history['loss'], delimiter=\",\")\n",
    "# np.savetxt(\"z_1_5_val_loss.csv\", history.history['val_loss'], delimiter=\",\")"
   ]
  },
  {
   "cell_type": "code",
   "execution_count": null,
   "metadata": {
    "colab": {
     "base_uri": "https://localhost:8080/",
     "height": 105
    },
    "colab_type": "code",
    "executionInfo": {
     "elapsed": 1844957,
     "status": "ok",
     "timestamp": 1592005409896,
     "user": {
      "displayName": "Ergun Simsek",
      "photoUrl": "https://lh3.googleusercontent.com/a-/AOh14Gg-wjHaTCL8nW1-WBjkR0PKajXbyfc3UgfX4HpB=s64",
      "userId": "16739529127101354422"
     },
     "user_tz": 240
    },
    "id": "jLa2Rp8zvzd7",
    "outputId": "b660f05a-f153-4b22-cd3a-48b1bf296f7b"
   },
   "outputs": [],
   "source": [
    "relative_error = (testy-test_predictions.reshape(1000,4))/testy\n",
    "np.power(np.sum(np.power(relative_error,2), axis=0)/1000,0.5)"
   ]
  },
  {
   "cell_type": "code",
   "execution_count": null,
   "metadata": {
    "colab": {},
    "colab_type": "code",
    "id": "Xl26Fmp8cb5s"
   },
   "outputs": [],
   "source": [
    "# 200    0.355709\n",
    "# 201    0.408483\n",
    "# 202    0.266224\n",
    "# 203    0.105814"
   ]
  }
 ],
 "metadata": {
  "colab": {
   "collapsed_sections": [],
   "name": "fl_f.ipynb",
   "provenance": [
    {
     "file_id": "1SINkiYqIVO8EvmQsYZ6uDp3NUuk9Y1Gk",
     "timestamp": 1589910479616
    },
    {
     "file_id": "1JpjD3aANP6Mli2_ieymEgV9xzvHbQ5cz",
     "timestamp": 1588947143317
    },
    {
     "file_id": "1d-GkwRFbuzy0lD11QAx58g9V8lINcT6-",
     "timestamp": 1588934561597
    },
    {
     "file_id": "1mTqRyLXYLIY6RAm0hOu_hG0MYUILnAsR",
     "timestamp": 1588891446585
    }
   ]
  },
  "kernelspec": {
   "display_name": "Python 3",
   "language": "python",
   "name": "python3"
  },
  "language_info": {
   "codemirror_mode": {
    "name": "ipython",
    "version": 3
   },
   "file_extension": ".py",
   "mimetype": "text/x-python",
   "name": "python",
   "nbconvert_exporter": "python",
   "pygments_lexer": "ipython3",
   "version": "3.7.1"
  }
 },
 "nbformat": 4,
 "nbformat_minor": 2
}
